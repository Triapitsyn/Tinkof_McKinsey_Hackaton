{
 "cells": [
  {
   "cell_type": "markdown",
   "metadata": {},
   "source": [
    "# Data resctruction"
   ]
  },
  {
   "cell_type": "code",
   "execution_count": 233,
   "metadata": {},
   "outputs": [],
   "source": [
    "import json as js\n",
    "import pandas as pd\n",
    "import numpy as np\n",
    "import tensorflow as tf\n",
    "import sys\n",
    "import traceback\n",
    "import re"
   ]
  },
  {
   "cell_type": "code",
   "execution_count": 234,
   "metadata": {},
   "outputs": [],
   "source": [
    "description = pd.read_csv('./data/stories_description.csv')"
   ]
  },
  {
   "cell_type": "code",
   "execution_count": 235,
   "metadata": {
    "scrolled": true
   },
   "outputs": [
    {
     "data": {
      "text/plain": [
       "(959, 2)"
      ]
     },
     "execution_count": 235,
     "metadata": {},
     "output_type": "execute_result"
    }
   ],
   "source": [
    "description.shape"
   ]
  },
  {
   "cell_type": "code",
   "execution_count": 236,
   "metadata": {},
   "outputs": [],
   "source": [
    "one_ting = js.loads(description['story_json'][0])\n",
    "sec_tong = js.loads(description['story_json'][3])"
   ]
  },
  {
   "cell_type": "code",
   "execution_count": 237,
   "metadata": {},
   "outputs": [
    {
     "data": {
      "text/plain": [
       "dict_keys(['guid', 'type', 'description', 'properties', 'content'])"
      ]
     },
     "execution_count": 237,
     "metadata": {},
     "output_type": "execute_result"
    }
   ],
   "source": [
    "one_ting.keys()"
   ]
  },
  {
   "cell_type": "code",
   "execution_count": 238,
   "metadata": {
    "scrolled": true
   },
   "outputs": [
    {
     "data": {
      "text/plain": [
       "dict_keys(['guid', 'type', 'properties', 'content'])"
      ]
     },
     "execution_count": 238,
     "metadata": {},
     "output_type": "execute_result"
    }
   ],
   "source": [
    "sec_tong.keys()"
   ]
  },
  {
   "cell_type": "markdown",
   "metadata": {},
   "source": [
    "so, keys are different"
   ]
  },
  {
   "cell_type": "code",
   "execution_count": 239,
   "metadata": {},
   "outputs": [
    {
     "data": {
      "text/plain": [
       "{'name': 'Что делать на Faces & Laces',\n",
       " 'background': {'gradient': {'colors': [], 'direction': 'vertical'},\n",
       "  'blur': False},\n",
       " 'icon_background': {'image_url': 'https://static2.tinkoff.ru/portfolio/stories/images/fl1_1.jpg',\n",
       "  'gradient': {'colors': [{'hex': '#000000', 'alpha': 0},\n",
       "    {'hex': '#000000', 'alpha': 0.6}],\n",
       "   'direction': 'vertical'},\n",
       "  'blur': False},\n",
       " 'hide_page_status': False}"
      ]
     },
     "execution_count": 239,
     "metadata": {},
     "output_type": "execute_result"
    }
   ],
   "source": [
    "sec_tong['properties']"
   ]
  },
  {
   "cell_type": "code",
   "execution_count": 240,
   "metadata": {},
   "outputs": [
    {
     "name": "stdout",
     "output_type": "stream",
     "text": [
      "70.41666666666667% of data causes errors with js.load\n"
     ]
    }
   ],
   "source": [
    "combo = 0\n",
    "for n in range(1, 960):\n",
    "    try:\n",
    "        a = js.loads(description['story_json'][n]).keys()\n",
    "    except:\n",
    "        combo+=1\n",
    "print(f'{combo/960*100}% of data causes errors with js.load')"
   ]
  },
  {
   "cell_type": "code",
   "execution_count": 241,
   "metadata": {},
   "outputs": [
    {
     "name": "stdout",
     "output_type": "stream",
     "text": [
      "Пополнить «Стрелку»\n",
      "Тинькофф Инвестиции 2.0\n",
      "Что делать на Faces & Laces\n",
      "Необычные виды спорта\n",
      "Скрытые карты\n",
      "Как хранить карту\n",
      "Рестораны для дружеских встреч\n",
      "Рюкзаки для школы\n",
      "Что такое овердрафт\n"
     ]
    }
   ],
   "source": [
    "for n in range(1, 10):\n",
    "    element = description['story_json'][n]\n",
    "    core = re.search('\"name\":\"[^\"]*\"', element)\n",
    "    if core != None:\n",
    "        print(core.group()[8:-1])\n",
    "    else:\n",
    "        print('None')"
   ]
  },
  {
   "cell_type": "code",
   "execution_count": 242,
   "metadata": {},
   "outputs": [
    {
     "name": "stdout",
     "output_type": "stream",
     "text": [
      "None\n",
      "https://static2.tinkoff.ru/portfolio/stories/images/investicii_11-05_zahod.jpg\n",
      "https://static2.tinkoff.ru/portfolio/stories/images/fl1_1.jpg\n",
      "https://static2.tinkoff.ru/portfolio/stories/images/neobichnie_vidi_sporta_02-04_zahod.jpg\n",
      "None\n"
     ]
    }
   ],
   "source": [
    "for n in range(1, 6):\n",
    "    element = description['story_json'][n]\n",
    "    core = re.search('\"image_url\":\"[^\"]*\"', element)\n",
    "    if core != None:\n",
    "        print(core.group()[13:-1])\n",
    "    else:\n",
    "        print('None')"
   ]
  },
  {
   "cell_type": "markdown",
   "metadata": {},
   "source": [
    "hmmmm, 2 + 2 is 4, minus 1 is 3 quick math"
   ]
  },
  {
   "cell_type": "code",
   "execution_count": 243,
   "metadata": {},
   "outputs": [],
   "source": [
    "def image_info(element):\n",
    "    core = re.search('\"icon_url\":\"[^\"]*\"', element)\n",
    "    if core != None:\n",
    "        return core.group()[12:-1]\n",
    "    else:\n",
    "        core = re.search('\"image_url\":\"[^\"]*\"', element)\n",
    "        if core != None:\n",
    "            return core.group()[13:-1]\n",
    "        else:\n",
    "            return None       "
   ]
  },
  {
   "cell_type": "code",
   "execution_count": 244,
   "metadata": {},
   "outputs": [],
   "source": [
    "description['image_data'] = [image_info(description['story_json'][n]) for n in range(959)]"
   ]
  },
  {
   "cell_type": "code",
   "execution_count": 245,
   "metadata": {},
   "outputs": [
    {
     "data": {
      "text/html": [
       "<div>\n",
       "<style scoped>\n",
       "    .dataframe tbody tr th:only-of-type {\n",
       "        vertical-align: middle;\n",
       "    }\n",
       "\n",
       "    .dataframe tbody tr th {\n",
       "        vertical-align: top;\n",
       "    }\n",
       "\n",
       "    .dataframe thead th {\n",
       "        text-align: right;\n",
       "    }\n",
       "</style>\n",
       "<table border=\"1\" class=\"dataframe\">\n",
       "  <thead>\n",
       "    <tr style=\"text-align: right;\">\n",
       "      <th></th>\n",
       "      <th>story_id</th>\n",
       "      <th>story_json</th>\n",
       "      <th>image_data</th>\n",
       "    </tr>\n",
       "  </thead>\n",
       "  <tbody>\n",
       "    <tr>\n",
       "      <td>0</td>\n",
       "      <td>127</td>\n",
       "      <td>{\"guid\":\"770a5bae-0e3f-4a6b-b924-bd87bd51a038\"...</td>\n",
       "      <td>https://static2.tinkoff.ru/portfolio/stories/i...</td>\n",
       "    </tr>\n",
       "    <tr>\n",
       "      <td>1</td>\n",
       "      <td>254</td>\n",
       "      <td>{\"guid\":\"64f4c9ef-647b-4e04-b4d4-02297e939388\"...</td>\n",
       "      <td>https://static2.tinkoff.ru/portfolio/stories/i...</td>\n",
       "    </tr>\n",
       "    <tr>\n",
       "      <td>2</td>\n",
       "      <td>865</td>\n",
       "      <td>{\"guid\":\"3482206b-d223-4aec-92ba-0150055cd68a\"...</td>\n",
       "      <td>https://static2.tinkoff.ru/portfolio/stories/i...</td>\n",
       "    </tr>\n",
       "  </tbody>\n",
       "</table>\n",
       "</div>"
      ],
      "text/plain": [
       "   story_id                                         story_json  \\\n",
       "0       127  {\"guid\":\"770a5bae-0e3f-4a6b-b924-bd87bd51a038\"...   \n",
       "1       254  {\"guid\":\"64f4c9ef-647b-4e04-b4d4-02297e939388\"...   \n",
       "2       865  {\"guid\":\"3482206b-d223-4aec-92ba-0150055cd68a\"...   \n",
       "\n",
       "                                          image_data  \n",
       "0  https://static2.tinkoff.ru/portfolio/stories/i...  \n",
       "1  https://static2.tinkoff.ru/portfolio/stories/i...  \n",
       "2  https://static2.tinkoff.ru/portfolio/stories/i...  "
      ]
     },
     "execution_count": 245,
     "metadata": {},
     "output_type": "execute_result"
    }
   ],
   "source": [
    "description.head(3)"
   ]
  },
  {
   "cell_type": "code",
   "execution_count": 246,
   "metadata": {},
   "outputs": [],
   "source": [
    "def name_info(element):\n",
    "    core = re.search('\"name\":\"[^\"]*\"', element)\n",
    "    if core != None:\n",
    "        return core.group()[8:-1]\n",
    "    else:\n",
    "        return None"
   ]
  },
  {
   "cell_type": "code",
   "execution_count": 247,
   "metadata": {},
   "outputs": [],
   "source": [
    "description['name_data'] = [name_info(description['story_json'][n]) for n in range(959)]"
   ]
  },
  {
   "cell_type": "code",
   "execution_count": 248,
   "metadata": {},
   "outputs": [
    {
     "data": {
      "text/html": [
       "<div>\n",
       "<style scoped>\n",
       "    .dataframe tbody tr th:only-of-type {\n",
       "        vertical-align: middle;\n",
       "    }\n",
       "\n",
       "    .dataframe tbody tr th {\n",
       "        vertical-align: top;\n",
       "    }\n",
       "\n",
       "    .dataframe thead th {\n",
       "        text-align: right;\n",
       "    }\n",
       "</style>\n",
       "<table border=\"1\" class=\"dataframe\">\n",
       "  <thead>\n",
       "    <tr style=\"text-align: right;\">\n",
       "      <th></th>\n",
       "      <th>story_id</th>\n",
       "      <th>story_json</th>\n",
       "      <th>image_data</th>\n",
       "      <th>name_data</th>\n",
       "    </tr>\n",
       "  </thead>\n",
       "  <tbody>\n",
       "  </tbody>\n",
       "</table>\n",
       "</div>"
      ],
      "text/plain": [
       "Empty DataFrame\n",
       "Columns: [story_id, story_json, image_data, name_data]\n",
       "Index: []"
      ]
     },
     "execution_count": 248,
     "metadata": {},
     "output_type": "execute_result"
    }
   ],
   "source": [
    "description[description['name_data']==None]"
   ]
  },
  {
   "cell_type": "code",
   "execution_count": 249,
   "metadata": {},
   "outputs": [
    {
     "data": {
      "text/html": [
       "<div>\n",
       "<style scoped>\n",
       "    .dataframe tbody tr th:only-of-type {\n",
       "        vertical-align: middle;\n",
       "    }\n",
       "\n",
       "    .dataframe tbody tr th {\n",
       "        vertical-align: top;\n",
       "    }\n",
       "\n",
       "    .dataframe thead th {\n",
       "        text-align: right;\n",
       "    }\n",
       "</style>\n",
       "<table border=\"1\" class=\"dataframe\">\n",
       "  <thead>\n",
       "    <tr style=\"text-align: right;\">\n",
       "      <th></th>\n",
       "      <th>story_id</th>\n",
       "      <th>story_json</th>\n",
       "      <th>image_data</th>\n",
       "      <th>name_data</th>\n",
       "    </tr>\n",
       "  </thead>\n",
       "  <tbody>\n",
       "  </tbody>\n",
       "</table>\n",
       "</div>"
      ],
      "text/plain": [
       "Empty DataFrame\n",
       "Columns: [story_id, story_json, image_data, name_data]\n",
       "Index: []"
      ]
     },
     "execution_count": 249,
     "metadata": {},
     "output_type": "execute_result"
    }
   ],
   "source": [
    "description[description['image_data']==None]"
   ]
  },
  {
   "cell_type": "code",
   "execution_count": 253,
   "metadata": {},
   "outputs": [
    {
     "data": {
      "text/html": [
       "<div>\n",
       "<style scoped>\n",
       "    .dataframe tbody tr th:only-of-type {\n",
       "        vertical-align: middle;\n",
       "    }\n",
       "\n",
       "    .dataframe tbody tr th {\n",
       "        vertical-align: top;\n",
       "    }\n",
       "\n",
       "    .dataframe thead th {\n",
       "        text-align: right;\n",
       "    }\n",
       "</style>\n",
       "<table border=\"1\" class=\"dataframe\">\n",
       "  <thead>\n",
       "    <tr style=\"text-align: right;\">\n",
       "      <th></th>\n",
       "      <th>story_id</th>\n",
       "      <th>story_json</th>\n",
       "      <th>image_data</th>\n",
       "      <th>name_data</th>\n",
       "    </tr>\n",
       "  </thead>\n",
       "  <tbody>\n",
       "    <tr>\n",
       "      <td>0</td>\n",
       "      <td>127</td>\n",
       "      <td>{\"guid\":\"770a5bae-0e3f-4a6b-b924-bd87bd51a038\"...</td>\n",
       "      <td>https://static2.tinkoff.ru/portfolio/stories/i...</td>\n",
       "      <td>Изменить пин-код</td>\n",
       "    </tr>\n",
       "    <tr>\n",
       "      <td>1</td>\n",
       "      <td>254</td>\n",
       "      <td>{\"guid\":\"64f4c9ef-647b-4e04-b4d4-02297e939388\"...</td>\n",
       "      <td>https://static2.tinkoff.ru/portfolio/stories/i...</td>\n",
       "      <td>Пополнить «Стрелку»</td>\n",
       "    </tr>\n",
       "    <tr>\n",
       "      <td>2</td>\n",
       "      <td>865</td>\n",
       "      <td>{\"guid\":\"3482206b-d223-4aec-92ba-0150055cd68a\"...</td>\n",
       "      <td>https://static2.tinkoff.ru/portfolio/stories/i...</td>\n",
       "      <td>Тинькофф Инвестиции 2.0</td>\n",
       "    </tr>\n",
       "    <tr>\n",
       "      <td>3</td>\n",
       "      <td>1491</td>\n",
       "      <td>{\"guid\":\"5f4a9215-01de-4777-b70f-a18899db8f1c\"...</td>\n",
       "      <td>https://static2.tinkoff.ru/portfolio/stories/i...</td>\n",
       "      <td>Что делать на Faces &amp; Laces</td>\n",
       "    </tr>\n",
       "  </tbody>\n",
       "</table>\n",
       "</div>"
      ],
      "text/plain": [
       "   story_id                                         story_json  \\\n",
       "0       127  {\"guid\":\"770a5bae-0e3f-4a6b-b924-bd87bd51a038\"...   \n",
       "1       254  {\"guid\":\"64f4c9ef-647b-4e04-b4d4-02297e939388\"...   \n",
       "2       865  {\"guid\":\"3482206b-d223-4aec-92ba-0150055cd68a\"...   \n",
       "3      1491  {\"guid\":\"5f4a9215-01de-4777-b70f-a18899db8f1c\"...   \n",
       "\n",
       "                                          image_data  \\\n",
       "0  https://static2.tinkoff.ru/portfolio/stories/i...   \n",
       "1  https://static2.tinkoff.ru/portfolio/stories/i...   \n",
       "2  https://static2.tinkoff.ru/portfolio/stories/i...   \n",
       "3  https://static2.tinkoff.ru/portfolio/stories/i...   \n",
       "\n",
       "                     name_data  \n",
       "0             Изменить пин-код  \n",
       "1          Пополнить «Стрелку»  \n",
       "2      Тинькофф Инвестиции 2.0  \n",
       "3  Что делать на Faces & Laces  "
      ]
     },
     "execution_count": 253,
     "metadata": {},
     "output_type": "execute_result"
    }
   ],
   "source": [
    "description.head(4)"
   ]
  },
  {
   "cell_type": "code",
   "execution_count": 255,
   "metadata": {},
   "outputs": [],
   "source": [
    "description.drop('story_json', axis=1, inplace=True)"
   ]
  },
  {
   "cell_type": "code",
   "execution_count": 261,
   "metadata": {},
   "outputs": [],
   "source": [
    "description.to_csv('./data/restructed_stories_description.csv', index = False)"
   ]
  },
  {
   "cell_type": "markdown",
   "metadata": {},
   "source": [
    "# Stories' analysis"
   ]
  },
  {
   "cell_type": "code",
   "execution_count": 299,
   "metadata": {},
   "outputs": [],
   "source": [
    "import matplotlib.pyplot as plt\n",
    "import matplotlib.image as mpimg\n",
    "from urllib.request import urlopen\n",
    "from imageio import imread"
   ]
  },
  {
   "cell_type": "code",
   "execution_count": 333,
   "metadata": {},
   "outputs": [
    {
     "data": {
      "text/plain": [
       "(264, 264, 4)"
      ]
     },
     "execution_count": 333,
     "metadata": {},
     "output_type": "execute_result"
    }
   ],
   "source": [
    "url = description['image_data'][0]\n",
    "\n",
    "with urlopen(url) as file:\n",
    "    img = imread(file.read())\n",
    "\n",
    "img.shape"
   ]
  },
  {
   "cell_type": "code",
   "execution_count": 344,
   "metadata": {
    "scrolled": true
   },
   "outputs": [
    {
     "data": {
      "image/png": "[encoded data removed]",
      "text/plain": [
       "<Figure size 432x288 with 1 Axes>"
      ]
     },
     "metadata": {
      "needs_background": "light"
     },
     "output_type": "display_data"
    }
   ],
   "source": [
    "# some images are white, so we need to multiply with 20\n",
    "imgplot = plt.imshow(img*20)\n",
    "plt.show()"
   ]
  },
  {
   "cell_type": "markdown",
   "metadata": {},
   "source": [
    "## what about using vgg16 for image classification?"
   ]
  },
  {
   "cell_type": "code",
   "execution_count": null,
   "metadata": {},
   "outputs": [
    {
     "name": "stdout",
     "output_type": "stream",
     "text": [
      "Downloading data from https://github.com/fchollet/deep-learning-models/releases/download/v0.1/vgg16_weights_tf_dim_ordering_tf_kernels.h5\n",
      " 25731072/553467096 [>.............................] - ETA: 1:49:59"
     ]
    }
   ],
   "source": [
    "from keras.applications.vgg16 import VGG16\n",
    "from keras.preprocessing.image import load_img\n",
    "from keras.preprocessing.image import img_to_array\n",
    "from keras.applications.vgg16 import preprocess_input\n",
    "from keras.applications.vgg16 import decode_predictions\n",
    "\n",
    "model = VGG16()\n",
    "\n",
    "print(model.summary())"
   ]
  },
  {
   "cell_type": "code",
   "execution_count": null,
   "metadata": {},
   "outputs": [],
   "source": [
    "image = img #load_img('./pictures/door.jpg', target_size=(224, 224))\n",
    "image = img_to_array(image)  #output Numpy-array\n",
    "\n",
    "image = image.reshape((1, image.shape[0], image.shape[1], image.shape[2]))\n",
    "\n",
    "image = preprocess_input(image)\n",
    "yhat = model.predict(image)\n",
    "\n",
    "label = decode_predictions(yhat)\n",
    "label = label[0][0]\n",
    "\n",
    "print('%s (%.2f%%)' % (label[1], label[2]*100))"
   ]
  }
 ],
 "metadata": {
  "kernelspec": {
   "display_name": "Python 3",
   "language": "python",
   "name": "python3"
  },
  "language_info": {
   "codemirror_mode": {
    "name": "ipython",
    "version": 3
   },
   "file_extension": ".py",
   "mimetype": "text/x-python",
   "name": "python",
   "nbconvert_exporter": "python",
   "pygments_lexer": "ipython3",
   "version": "3.7.3"
  }
 },
 "nbformat": 4,
 "nbformat_minor": 2
}
