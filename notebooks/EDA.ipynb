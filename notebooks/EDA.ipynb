{
 "cells": [
  {
   "cell_type": "markdown",
   "metadata": {},
   "source": [
    "# Смотрим в дату"
   ]
  },
  {
   "cell_type": "code",
   "execution_count": 1,
   "metadata": {},
   "outputs": [],
   "source": [
    "import numpy as np\n",
    "import pandas as pd\n",
    "import matplotlib.pyplot as plt\n",
    "import seaborn as sns\n",
    "sns.set()"
   ]
  },
  {
   "cell_type": "code",
   "execution_count": 2,
   "metadata": {},
   "outputs": [],
   "source": [
    "path = '~/data/tinkoff/'\n",
    "\n",
    "cust_train = pd.read_csv(path + 'customer_train.csv')\n",
    "cust_test = pd.read_csv(path + 'customer_test.csv')\n",
    "transactions = pd.read_csv(path + 'transactions.csv')\n",
    "react_train = pd.read_csv(path + 'stories_reaction_train.csv')\n",
    "react_test = pd.read_csv(path + 'stories_reaction_test.csv')\n",
    "descr = pd.read_csv(path + 'stories_description.csv')\n",
    "sample = pd.read_csv(path + 'sample_submit.csv')"
   ]
  },
  {
   "cell_type": "markdown",
   "metadata": {},
   "source": [
    "## Файл stories_description ##"
   ]
  },
  {
   "cell_type": "code",
   "execution_count": 3,
   "metadata": {},
   "outputs": [
    {
     "name": "stdout",
     "output_type": "stream",
     "text": [
      "(959, 2)\n"
     ]
    },
    {
     "data": {
      "text/html": [
       "<div>\n",
       "<style scoped>\n",
       "    .dataframe tbody tr th:only-of-type {\n",
       "        vertical-align: middle;\n",
       "    }\n",
       "\n",
       "    .dataframe tbody tr th {\n",
       "        vertical-align: top;\n",
       "    }\n",
       "\n",
       "    .dataframe thead th {\n",
       "        text-align: right;\n",
       "    }\n",
       "</style>\n",
       "<table border=\"1\" class=\"dataframe\">\n",
       "  <thead>\n",
       "    <tr style=\"text-align: right;\">\n",
       "      <th></th>\n",
       "      <th>story_id</th>\n",
       "      <th>story_json</th>\n",
       "    </tr>\n",
       "  </thead>\n",
       "  <tbody>\n",
       "    <tr>\n",
       "      <th>0</th>\n",
       "      <td>127</td>\n",
       "      <td>{\"guid\":\"770a5bae-0e3f-4a6b-b924-bd87bd51a038\"...</td>\n",
       "    </tr>\n",
       "  </tbody>\n",
       "</table>\n",
       "</div>"
      ],
      "text/plain": [
       "   story_id                                         story_json\n",
       "0       127  {\"guid\":\"770a5bae-0e3f-4a6b-b924-bd87bd51a038\"..."
      ]
     },
     "execution_count": 3,
     "metadata": {},
     "output_type": "execute_result"
    }
   ],
   "source": [
    "print(descr.shape)\n",
    "descr.head(1)"
   ]
  },
  {
   "cell_type": "code",
   "execution_count": 4,
   "metadata": {},
   "outputs": [
    {
     "data": {
      "text/plain": [
       "'{\"guid\":\"770a5bae-0e3f-4a6b-b924-bd87bd51a038\",\"type\":\"root\",\"description\":\"https://wiki.tcsbank.ru/pages/viewpage.action?pageId=262577789\",\"properties\":{\"name\":\"Изменить пин-код\",\"background\":{\"gradient\":{\"colors\":[],\"direction\":\"vertical\"},\"blur\":false},\"icon_url\":\"https://static2.tinkoff.ru/portfolio/stories/icons/pin.png\",\"icon_background\":{\"gradient\":{\"colors\":[{\"hex\":\"#b8a1e0\",\"alpha\":1},{\"hex\":\"#00bee0\",\"alpha\":1}],\"direction\":\"vertical\"},\"blur\":false},\"hide_page_status\":false},\"content\":[{\"guid\":\"5e560c49-d7d2-42a7-b3ea-0162d3282380\",\"type\":\"story-page\",\"properties\":{\"topMask\":false,\"bottomMask\":false,\"flip_interval\":10,\"background\":{\"gradient\":{\"colors\":[{\"hex\":\"#b8a1e0\",\"alpha\":1},{\"hex\":\"#00bee0\",\"alpha\":1}],\"direction\":\"diagonal\"},\"blur\":false},\"hidden\":\"false\",\"disable_tap_zones\":false,\"log_view\":false},\"content\":[{\"guid\":\"44fab33d-58aa-4c0a-8641-ccea621a7946\",\"type\":\"layout-linear\",\"properties\":{\"orientation\":\"vertical\",\"topMask\":false,\"bottomMask\":false,\"background\":{\"gradient\":{\"colors\":[],\"direction\":\"vertical\"},\"blur\":false},\"hidden\":\"false\",\"type\":\"grouped\",\"size\":{\"height\":{\"value\":0,\"units\":\"pixels\"},\"width\":{\"value\":0,\"units\":\"pixels\"}},\"padding\":{\"bottom\":0},\"margin\":{\"top\":0,\"bottom\":0,\"left\":0,\"right\":0},\"corner_radius\":{\"value\":0,\"units\":\"pixels\"},\"border\":{\"width\":0},\"alignment\":\"center\"},\"content\":[{\"guid\":\"4a03899b-9d54-4b6d-b944-52f0ba73b8f9\",\"type\":\"layout-linear\",\"properties\":{\"orientation\":\"horizontal\",\"topMask\":false,\"bottomMask\":false,\"background\":{\"gradient\":{\"colors\":[],\"direction\":\"vertical\"},\"blur\":false},\"hidden\":\"false\",\"type\":\"grouped\",\"padding\":{\"left\":16},\"alignment\":\"center\"},\"content\":[{\"guid\":\"b96aa65a-9e92-4b33-bb8c-1ffcefe087b1\",\"type\":\"image\",\"properties\":{\"url\":\"https://static2.tinkoff.ru/portfolio/stories/icons/pin.png\",\"alignment\":\"leading\",\"size\":{\"height\":{\"value\":88,\"units\":\"pixels\"},\"width\":{\"value\":88,\"units\":\"pixels\"}},\"corner_radius\":{\"value\":50,\"units\":\"percent\"},\"content_mode\":\"fill\",\"alpha\":1,\"background\":{\"gradient\":{\"colors\":[{\"hex\":\"#ffffff\",\"alpha\":0.2}],\"direction\":\"vertical\"},\"blur\":false}}}]},{\"guid\":\"019c929c-256b-4434-9712-9bb8d99dae01\",\"type\":\"layout-linear\",\"properties\":{\"orientation\":\"horizontal\",\"topMask\":false,\"bottomMask\":false,\"background\":{\"gradient\":{\"colors\":[]},\"blur\":false},\"hidden\":\"false\",\"type\":\"grouped\",\"template_name\":\"text\",\"size\":{\"height\":{\"value\":0,\"units\":\"pixels\"},\"width\":{\"value\":0,\"units\":\"pixels\"}},\"padding\":{\"top\":0,\"bottom\":\"0\",\"left\":16,\"right\":16},\"margin\":{\"top\":16,\"bottom\":\"16\",\"left\":0,\"right\":0},\"corner_radius\":{\"value\":0,\"units\":\"pixels\"},\"border\":{\"width\":0}},\"content\":[{\"guid\":\"2b2d633d-60be-49e8-ba7c-e8b07f158b0c\",\"type\":\"label\",\"properties\":{\"text\":\"Как изменить ПИН-код\",\"font_size\":36,\"font_type\":\"bold\",\"font_color\":{\"hex\":\"#ffffff\",\"alpha\":1},\"alignment\":\"leading\",\"corner_radius\":{\"value\":0,\"units\":\"pixels\"},\"background\":{\"gradient\":{\"colors\":[],\"direction\":\"diagonal\"},\"blur\":false},\"size\":{\"height\":{\"value\":0,\"units\":\"pixels\"},\"width\":{\"value\":0,\"units\":\"pixels\"}},\"padding\":{\"top\":0,\"bottom\":0,\"left\":0,\"right\":0},\"margin\":{\"top\":\"0\",\"bottom\":\"0\",\"left\":\"0\",\"right\":\"0\"},\"border\":{\"width\":0}}}]}]}]},{\"guid\":\"535eed2b-866b-4fb8-a50f-a87f2b1cb495\",\"type\":\"story-page\",\"description\":\"1\",\"properties\":{\"flip_interval\":10,\"background\":{\"gradient\":{\"colors\":[{\"hex\":\"#00b3e0\",\"alpha\":1},{\"hex\":\"#b596e1\",\"alpha\":1}],\"direction\":\"diagonal\"},\"blur\":false},\"hidden\":\"false\"},\"content\":[{\"guid\":\"aefb5454-35d2-4427-b8e5-28dbcb4fc464\",\"type\":\"layout-linear\",\"properties\":{\"orientation\":\"vertical\",\"background\":{\"gradient\":{},\"blur\":false},\"hidden\":\"false\",\"type\":\"grouped\",\"size\":{\"height\":{},\"width\":{}},\"corner_radius\":{\"units\":\"pixels\"},\"alignment\":\"leading\"},\"content\":[{\"guid\":\"72b2f7aa-cac8-4b98-b3ce-3577b79fe6ef\",\"type\":\"layout-linear\",\"properties\":{\"orientation\":\"horizontal\",\"hidden\":\"false\",\"type\":\"grouped\",\"margin\":{\"bottom\":16,\"top\":8},\"alignment\":\"center\"},\"content\":[]},{\"guid\":\"4037fd9d-4c57-4f51-a019-83d977dea84c\",\"type\":\"layout-linear\",\"properties\":{\"orientation\":\"horizontal\",\"background\":{\"gradient\":{\"colors\":[{\"hex\":\"#ffffff\",\"alpha\":0.3}]},\"blur\":false},\"hidden\":\"false\",\"type\":\"grouped\",\"size\":{\"height\":{}},\"margin\":{\"bottom\":12},\"alignment\":\"center\"},\"content\":[{\"guid\":\"2dd9916e-6724-44b9-9c6e-ef867ad5557f\",\"type\":\"image\",\"properties\":{\"url\":\"https://static2.tinkoff.ru/portfolio/stories/images/57_1.png\",\"alignment\":\"center\",\"size\":{\"height\":{\"value\":232,\"units\":\"pixels\"},\"width\":{\"value\":288,\"units\":\"pixels\"}},\"margin\":{\"top\":0,\"bottom\":0},\"content_mode\":\"fill\",\"alpha\":1}}]},{\"guid\":\"41e34377-3af3-4344-8bab-9ec5f218134c\",\"type\":\"layout-linear\",\"properties\":{\"orientation\":\"vertical\",\"background\":{\"gradient\":{\"colors\":[]},\"blur\":false},\"hidden\":\"false\",\"type\":\"grouped\",\"size\":{\"height\":{}},\"corner_radius\":{\"units\":\"pixels\"},\"alignment\":\"center\"},\"content\":[{\"guid\":\"27861d90-8cd3-4c3e-aacd-6995f18c9afc\",\"type\":\"layout-linear\",\"description\":\"копия\",\"properties\":{\"orientation\":\"horizontal\",\"hidden\":\"false\",\"type\":\"grouped\",\"alignment\":\"leading\"},\"content\":[{\"guid\":\"c6f48013-17b7-4e7a-9bb3-5f4acf21561c\",\"type\":\"label\",\"properties\":{\"text\":\"Зайдите с главной в меню «Еще» и выберите во вкладке настроек «ПИН-коды карт».\",\"font_size\":20,\"font_type\":\"normal\",\"font_color\":{\"hex\":\"#ffffff\",\"alpha\":1},\"alignment\":\"leading\",\"background\":{\"gradient\":{\"colors\":[],\"direction\":\"vertical\"},\"blur\":false},\"margin\":{\"left\":16,\"right\":16}},\"content\":[]}]},{\"guid\":\"265c4785-b859-4777-8b09-9174a2d9f8ee\",\"type\":\"layout-linear\",\"properties\":{\"orientation\":\"horizontal\",\"hidden\":\"false\",\"type\":\"grouped\",\"alignment\":\"center\"}}]}]}]},{\"guid\":\"8bd9eeae-cd71-4afb-b187-1b48688a3727\",\"type\":\"story-page\",\"description\":\"2\",\"properties\":{\"flip_interval\":10,\"background\":{\"gradient\":{\"colors\":[{\"hex\":\"#00b3e0\",\"alpha\":1},{\"hex\":\"#b596e1\",\"alpha\":1}],\"direction\":\"diagonal\"},\"blur\":false},\"hidden\":\"false\"},\"content\":[{\"guid\":\"b352d83d-cd00-4f95-b5bb-311b81057242\",\"type\":\"layout-linear\",\"properties\":{\"orientation\":\"vertical\",\"background\":{\"gradient\":{},\"blur\":false},\"hidden\":\"false\",\"type\":\"grouped\",\"size\":{\"height\":{},\"width\":{}},\"corner_radius\":{\"units\":\"pixels\"},\"alignment\":\"leading\"},\"content\":[{\"guid\":\"2643b84e-944e-4884-828d-5a9035a619f4\",\"type\":\"layout-linear\",\"properties\":{\"orientation\":\"horizontal\",\"hidden\":\"false\",\"type\":\"grouped\",\"margin\":{\"bottom\":16,\"top\":8},\"alignment\":\"center\"},\"content\":[]},{\"guid\":\"661400d3-6b30-49a5-a2cd-6a14d7e1231a\",\"type\":\"layout-linear\",\"properties\":{\"orientation\":\"horizontal\",\"background\":{\"gradient\":{\"colors\":[{\"hex\":\"#ffffff\",\"alpha\":0.3}]},\"blur\":false},\"hidden\":\"false\",\"type\":\"grouped\",\"size\":{\"height\":{}},\"margin\":{\"bottom\":12},\"alignment\":\"center\"},\"content\":[{\"guid\":\"6ac2fd45-63ab-4847-a9f1-bdc163bbf082\",\"type\":\"image\",\"properties\":{\"url\":\"https://static2.tinkoff.ru/portfolio/stories/images/57_2.png\",\"alignment\":\"center\",\"size\":{\"height\":{\"value\":232,\"units\":\"pixels\"},\"width\":{\"value\":288,\"units\":\"pixels\"}},\"margin\":{\"top\":0,\"bottom\":0},\"content_mode\":\"fill\",\"alpha\":1}}]},{\"guid\":\"7cb92e78-9922-4aca-96dc-af4a4f8175c8\",\"type\":\"layout-linear\",\"properties\":{\"orientation\":\"vertical\",\"background\":{\"gradient\":{\"colors\":[]},\"blur\":false},\"hidden\":\"false\",\"type\":\"grouped\",\"size\":{\"height\":{}},\"corner_radius\":{\"units\":\"pixels\"},\"alignment\":\"center\"},\"content\":[{\"guid\":\"e56c6fb4-dd76-4757-a89e-ac3f95741406\",\"type\":\"layout-linear\",\"description\":\"копия\",\"properties\":{\"orientation\":\"horizontal\",\"hidden\":\"false\",\"type\":\"grouped\",\"alignment\":\"leading\"},\"content\":[{\"guid\":\"5375757d-203e-4068-8d36-54cc1f6999d8\",\"type\":\"label\",\"properties\":{\"text\":\"Нажмите «Изменить ПИН-код».\",\"font_size\":20,\"font_type\":\"normal\",\"font_color\":{\"hex\":\"#ffffff\",\"alpha\":1},\"alignment\":\"leading\",\"background\":{\"gradient\":{\"colors\":[],\"direction\":\"vertical\"},\"blur\":false},\"margin\":{\"left\":16,\"right\":16}},\"content\":[]}]},{\"guid\":\"8f4a3264-d5b9-45a1-bda4-f0d35f045a6c\",\"type\":\"layout-linear\",\"properties\":{\"orientation\":\"horizontal\",\"hidden\":\"false\",\"type\":\"grouped\",\"alignment\":\"center\"},\"content\":[]}]}]}]},{\"guid\":\"14e04885-1e2f-4649-bd86-b1f1085fd988\",\"type\":\"story-page\",\"description\":\"3\",\"properties\":{\"flip_interval\":10,\"background\":{\"gradient\":{\"colors\":[{\"hex\":\"#00b3e0\",\"alpha\":1},{\"hex\":\"#b596e1\",\"alpha\":1}],\"direction\":\"diagonal\"},\"blur\":false},\"hidden\":\"false\"},\"content\":[{\"guid\":\"9e5b2c05-0342-47a1-8abb-9d5cd95172a1\",\"type\":\"layout-linear\",\"properties\":{\"orientation\":\"vertical\",\"background\":{\"gradient\":{},\"blur\":false},\"hidden\":\"false\",\"type\":\"grouped\",\"size\":{\"height\":{},\"width\":{}},\"corner_radius\":{\"units\":\"pixels\"},\"alignment\":\"leading\"},\"content\":[{\"guid\":\"80983535-cf2d-453b-9b2e-f8dce2f10ff6\",\"type\":\"layout-linear\",\"properties\":{\"orientation\":\"horizontal\",\"hidden\":\"false\",\"type\":\"grouped\",\"margin\":{\"bottom\":16,\"top\":8},\"alignment\":\"center\"},\"content\":[]},{\"guid\":\"ef8d88ec-6027-4d24-aee0-f5d2c9d0b509\",\"type\":\"layout-linear\",\"properties\":{\"orientation\":\"horizontal\",\"background\":{\"gradient\":{\"colors\":[{\"hex\":\"#ffffff\",\"alpha\":0.3}]},\"blur\":false},\"hidden\":\"false\",\"type\":\"grouped\",\"size\":{\"height\":{}},\"margin\":{\"bottom\":12},\"alignment\":\"center\"},\"content\":[{\"guid\":\"316b7b50-d83e-4243-990b-2bcc18103382\",\"type\":\"image\",\"properties\":{\"url\":\"https://static2.tinkoff.ru/portfolio/stories/images/57_3.png\",\"alignment\":\"center\",\"size\":{\"height\":{\"value\":232,\"units\":\"pixels\"},\"width\":{\"value\":288,\"units\":\"pixels\"}},\"margin\":{\"top\":0,\"bottom\":0},\"content_mode\":\"fill\",\"alpha\":1}}]},{\"guid\":\"c64899a2-09e2-4f3d-ac65-f90e0596c41e\",\"type\":\"layout-linear\",\"properties\":{\"orientation\":\"vertical\",\"background\":{\"gradient\":{\"colors\":[]},\"blur\":false},\"hidden\":\"false\",\"type\":\"grouped\",\"size\":{\"height\":{}},\"corner_radius\":{\"units\":\"pixels\"},\"alignment\":\"center\"},\"content\":[{\"guid\":\"78e1dee8-fe58-4196-abd7-dfc337789a11\",\"type\":\"layout-linear\",\"description\":\"копия\",\"properties\":{\"orientation\":\"horizontal\",\"hidden\":\"false\",\"type\":\"grouped\",\"alignment\":\"leading\"},\"content\":[{\"guid\":\"a99ef1d1-6906-4031-ad16-920221ba27bd\",\"type\":\"label\",\"properties\":{\"text\":\"Введите дату своего рождения, чтобы разрешить операцию.\",\"font_size\":20,\"font_type\":\"normal\",\"font_color\":{\"hex\":\"#ffffff\",\"alpha\":1},\"alignment\":\"leading\",\"background\":{\"gradient\":{\"colors\":[],\"direction\":\"vertical\"},\"blur\":false},\"margin\":{\"left\":16,\"right\":16}},\"content\":[]}]},{\"guid\":\"6a8d6399-233d-40a3-bbcf-2a024af46199\",\"type\":\"layout-linear\",\"properties\":{\"orientation\":\"horizontal\",\"hidden\":\"false\",\"type\":\"grouped\",\"alignment\":\"center\"},\"content\":[]}]}]}]},{\"guid\":\"f13b3a87-313a-4899-a480-bb98aa59256b\",\"type\":\"story-page\",\"description\":\"4\",\"properties\":{\"flip_interval\":10,\"background\":{\"gradient\":{\"colors\":[{\"hex\":\"#00b3e0\",\"alpha\":1},{\"hex\":\"#b596e1\",\"alpha\":1}],\"direction\":\"diagonal\"},\"blur\":false},\"hidden\":\"false\"},\"content\":[{\"guid\":\"3a606514-8791-4fbc-b0d3-e442779d9f27\",\"type\":\"layout-linear\",\"properties\":{\"orientation\":\"vertical\",\"background\":{\"gradient\":{},\"blur\":false},\"hidden\":\"false\",\"type\":\"grouped\",\"size\":{\"height\":{},\"width\":{}},\"corner_radius\":{\"units\":\"pixels\"},\"alignment\":\"leading\"},\"content\":[{\"guid\":\"74f4ac70-d696-4222-984a-8e8c13d438c7\",\"type\":\"layout-linear\",\"properties\":{\"orientation\":\"horizontal\",\"hidden\":\"false\",\"type\":\"grouped\",\"margin\":{\"bottom\":16,\"top\":8},\"alignment\":\"center\"},\"content\":[]},{\"guid\":\"f2ab957b-b7ad-462b-a9b6-44b71cd28da6\",\"type\":\"layout-linear\",\"properties\":{\"orientation\":\"horizontal\",\"background\":{\"gradient\":{\"colors\":[{\"hex\":\"#ffffff\",\"alpha\":0.3}]},\"blur\":false},\"hidden\":\"false\",\"type\":\"grouped\",\"size\":{\"height\":{}},\"margin\":{\"bottom\":12},\"alignment\":\"center\"},\"content\":[{\"guid\":\"f76336b8-2499-47c6-932c-265ffa8b875e\",\"type\":\"image\",\"properties\":{\"url\":\"https://static2.tinkoff.ru/portfolio/stories/images/57_4.png\",\"alignment\":\"center\",\"size\":{\"height\":{\"value\":232,\"units\":\"pixels\"},\"width\":{\"value\":288,\"units\":\"pixels\"}},\"margin\":{\"top\":0,\"bottom\":0},\"content_mode\":\"fill\",\"alpha\":1}}]},{\"guid\":\"36bee9de-42de-457c-b678-3ba8dfb3e1c3\",\"type\":\"layout-linear\",\"properties\":{\"orientation\":\"vertical\",\"background\":{\"gradient\":{\"colors\":[]},\"blur\":false},\"hidden\":\"false\",\"type\":\"grouped\",\"size\":{\"height\":{}},\"corner_radius\":{\"units\":\"pixels\"},\"alignment\":\"center\"},\"content\":[{\"guid\":\"f39513a0-bb06-4629-be8a-d6aad2ba079f\",\"type\":\"layout-linear\",\"description\":\"копия\",\"properties\":{\"orientation\":\"horizontal\",\"hidden\":\"false\",\"type\":\"grouped\",\"alignment\":\"leading\"},\"content\":[{\"guid\":\"37851dcf-bb4f-4ca4-9ef2-1d7b73427e17\",\"type\":\"label\",\"properties\":{\"text\":\"Введите новую комбинацию и нажмите кнопку «Задать ПИН-код».\",\"font_size\":20,\"font_type\":\"normal\",\"font_color\":{\"hex\":\"#ffffff\",\"alpha\":1},\"alignment\":\"leading\",\"background\":{\"gradient\":{\"colors\":[],\"direction\":\"vertical\"},\"blur\":false},\"margin\":{\"left\":16,\"right\":16}},\"content\":[]}]},{\"guid\":\"2c77ccaa-052e-46ec-9bd1-33bce9ab9af0\",\"type\":\"layout-linear\",\"properties\":{\"orientation\":\"horizontal\",\"hidden\":\"false\",\"type\":\"grouped\",\"alignment\":\"center\"},\"content\":[]}]}]}]}]}'"
      ]
     },
     "execution_count": 4,
     "metadata": {},
     "output_type": "execute_result"
    }
   ],
   "source": [
    "descr['story_json'][0]"
   ]
  },
  {
   "cell_type": "markdown",
   "metadata": {},
   "source": [
    "Получается, что stories_description просто содержит большие json-файлы с информацией об историях."
   ]
  },
  {
   "cell_type": "code",
   "execution_count": 5,
   "metadata": {},
   "outputs": [
    {
     "name": "stdout",
     "output_type": "stream",
     "text": [
      "dict_keys(['guid', 'type', 'description', 'properties', 'content'])\n"
     ]
    }
   ],
   "source": [
    "import json\n",
    "example = json.loads(descr['story_json'][0])\n",
    "print(example.keys())"
   ]
  },
  {
   "cell_type": "markdown",
   "metadata": {},
   "source": [
    "Guid, type и description, судя по всему, бесполезны, в properties может быть что-то важное, например, имя, а в content лежит массив из всех картинок в истории."
   ]
  },
  {
   "cell_type": "code",
   "execution_count": 6,
   "metadata": {},
   "outputs": [
    {
     "name": "stdout",
     "output_type": "stream",
     "text": [
      "dict_keys(['name', 'background', 'icon_url', 'icon_background', 'hide_page_status']) \n",
      "\n",
      "\n"
     ]
    },
    {
     "data": {
      "text/plain": [
       "{'name': 'Изменить пин-код',\n",
       " 'background': {'gradient': {'colors': [], 'direction': 'vertical'},\n",
       "  'blur': False},\n",
       " 'icon_url': 'https://static2.tinkoff.ru/portfolio/stories/icons/pin.png',\n",
       " 'icon_background': {'gradient': {'colors': [{'hex': '#b8a1e0', 'alpha': 1},\n",
       "    {'hex': '#00bee0', 'alpha': 1}],\n",
       "   'direction': 'vertical'},\n",
       "  'blur': False},\n",
       " 'hide_page_status': False}"
      ]
     },
     "execution_count": 6,
     "metadata": {},
     "output_type": "execute_result"
    }
   ],
   "source": [
    "print(example['properties'].keys(), '\\n\\n')\n",
    "example['properties']"
   ]
  },
  {
   "cell_type": "code",
   "execution_count": 7,
   "metadata": {},
   "outputs": [
    {
     "name": "stdout",
     "output_type": "stream",
     "text": [
      "dict_keys(['guid', 'type', 'properties', 'content']) \n",
      "\n",
      "\n"
     ]
    },
    {
     "data": {
      "text/plain": [
       "{'guid': '5e560c49-d7d2-42a7-b3ea-0162d3282380',\n",
       " 'type': 'story-page',\n",
       " 'properties': {'topMask': False,\n",
       "  'bottomMask': False,\n",
       "  'flip_interval': 10,\n",
       "  'background': {'gradient': {'colors': [{'hex': '#b8a1e0', 'alpha': 1},\n",
       "     {'hex': '#00bee0', 'alpha': 1}],\n",
       "    'direction': 'diagonal'},\n",
       "   'blur': False},\n",
       "  'hidden': 'false',\n",
       "  'disable_tap_zones': False,\n",
       "  'log_view': False},\n",
       " 'content': [{'guid': '44fab33d-58aa-4c0a-8641-ccea621a7946',\n",
       "   'type': 'layout-linear',\n",
       "   'properties': {'orientation': 'vertical',\n",
       "    'topMask': False,\n",
       "    'bottomMask': False,\n",
       "    'background': {'gradient': {'colors': [], 'direction': 'vertical'},\n",
       "     'blur': False},\n",
       "    'hidden': 'false',\n",
       "    'type': 'grouped',\n",
       "    'size': {'height': {'value': 0, 'units': 'pixels'},\n",
       "     'width': {'value': 0, 'units': 'pixels'}},\n",
       "    'padding': {'bottom': 0},\n",
       "    'margin': {'top': 0, 'bottom': 0, 'left': 0, 'right': 0},\n",
       "    'corner_radius': {'value': 0, 'units': 'pixels'},\n",
       "    'border': {'width': 0},\n",
       "    'alignment': 'center'},\n",
       "   'content': [{'guid': '4a03899b-9d54-4b6d-b944-52f0ba73b8f9',\n",
       "     'type': 'layout-linear',\n",
       "     'properties': {'orientation': 'horizontal',\n",
       "      'topMask': False,\n",
       "      'bottomMask': False,\n",
       "      'background': {'gradient': {'colors': [], 'direction': 'vertical'},\n",
       "       'blur': False},\n",
       "      'hidden': 'false',\n",
       "      'type': 'grouped',\n",
       "      'padding': {'left': 16},\n",
       "      'alignment': 'center'},\n",
       "     'content': [{'guid': 'b96aa65a-9e92-4b33-bb8c-1ffcefe087b1',\n",
       "       'type': 'image',\n",
       "       'properties': {'url': 'https://static2.tinkoff.ru/portfolio/stories/icons/pin.png',\n",
       "        'alignment': 'leading',\n",
       "        'size': {'height': {'value': 88, 'units': 'pixels'},\n",
       "         'width': {'value': 88, 'units': 'pixels'}},\n",
       "        'corner_radius': {'value': 50, 'units': 'percent'},\n",
       "        'content_mode': 'fill',\n",
       "        'alpha': 1,\n",
       "        'background': {'gradient': {'colors': [{'hex': '#ffffff',\n",
       "            'alpha': 0.2}],\n",
       "          'direction': 'vertical'},\n",
       "         'blur': False}}}]},\n",
       "    {'guid': '019c929c-256b-4434-9712-9bb8d99dae01',\n",
       "     'type': 'layout-linear',\n",
       "     'properties': {'orientation': 'horizontal',\n",
       "      'topMask': False,\n",
       "      'bottomMask': False,\n",
       "      'background': {'gradient': {'colors': []}, 'blur': False},\n",
       "      'hidden': 'false',\n",
       "      'type': 'grouped',\n",
       "      'template_name': 'text',\n",
       "      'size': {'height': {'value': 0, 'units': 'pixels'},\n",
       "       'width': {'value': 0, 'units': 'pixels'}},\n",
       "      'padding': {'top': 0, 'bottom': '0', 'left': 16, 'right': 16},\n",
       "      'margin': {'top': 16, 'bottom': '16', 'left': 0, 'right': 0},\n",
       "      'corner_radius': {'value': 0, 'units': 'pixels'},\n",
       "      'border': {'width': 0}},\n",
       "     'content': [{'guid': '2b2d633d-60be-49e8-ba7c-e8b07f158b0c',\n",
       "       'type': 'label',\n",
       "       'properties': {'text': 'Как изменить ПИН-код',\n",
       "        'font_size': 36,\n",
       "        'font_type': 'bold',\n",
       "        'font_color': {'hex': '#ffffff', 'alpha': 1},\n",
       "        'alignment': 'leading',\n",
       "        'corner_radius': {'value': 0, 'units': 'pixels'},\n",
       "        'background': {'gradient': {'colors': [], 'direction': 'diagonal'},\n",
       "         'blur': False},\n",
       "        'size': {'height': {'value': 0, 'units': 'pixels'},\n",
       "         'width': {'value': 0, 'units': 'pixels'}},\n",
       "        'padding': {'top': 0, 'bottom': 0, 'left': 0, 'right': 0},\n",
       "        'margin': {'top': '0', 'bottom': '0', 'left': '0', 'right': '0'},\n",
       "        'border': {'width': 0}}}]}]}]}"
      ]
     },
     "execution_count": 7,
     "metadata": {},
     "output_type": "execute_result"
    }
   ],
   "source": [
    "print(example['content'][0].keys(), '\\n\\n')\n",
    "example['content'][0]"
   ]
  },
  {
   "cell_type": "markdown",
   "metadata": {},
   "source": [
    "Похоже, это еще и массив массивов (почему-то), но если посмотреть на это все, то становится похоже, что важно только свойство text. Можно будет какую-нибудь RNN на нем обучить и посмотреть, что будет. Но судя по всему, это все достаточно бесполезно."
   ]
  },
  {
   "cell_type": "markdown",
   "metadata": {},
   "source": [
    "## Файл transactions"
   ]
  },
  {
   "cell_type": "code",
   "execution_count": 8,
   "metadata": {},
   "outputs": [
    {
     "name": "stdout",
     "output_type": "stream",
     "text": [
      "(3951115, 6)\n"
     ]
    },
    {
     "data": {
      "text/html": [
       "<div>\n",
       "<style scoped>\n",
       "    .dataframe tbody tr th:only-of-type {\n",
       "        vertical-align: middle;\n",
       "    }\n",
       "\n",
       "    .dataframe tbody tr th {\n",
       "        vertical-align: top;\n",
       "    }\n",
       "\n",
       "    .dataframe thead th {\n",
       "        text-align: right;\n",
       "    }\n",
       "</style>\n",
       "<table border=\"1\" class=\"dataframe\">\n",
       "  <thead>\n",
       "    <tr style=\"text-align: right;\">\n",
       "      <th></th>\n",
       "      <th>customer_id</th>\n",
       "      <th>transaction_month</th>\n",
       "      <th>transaction_day</th>\n",
       "      <th>transaction_amt</th>\n",
       "      <th>merchant_id</th>\n",
       "      <th>merchant_mcc</th>\n",
       "    </tr>\n",
       "  </thead>\n",
       "  <tbody>\n",
       "    <tr>\n",
       "      <th>0</th>\n",
       "      <td>855115</td>\n",
       "      <td>7</td>\n",
       "      <td>3</td>\n",
       "      <td>1500</td>\n",
       "      <td>4554547</td>\n",
       "      <td>5411</td>\n",
       "    </tr>\n",
       "    <tr>\n",
       "      <th>1</th>\n",
       "      <td>997036</td>\n",
       "      <td>6</td>\n",
       "      <td>6</td>\n",
       "      <td>0</td>\n",
       "      <td>1657528</td>\n",
       "      <td>5411</td>\n",
       "    </tr>\n",
       "  </tbody>\n",
       "</table>\n",
       "</div>"
      ],
      "text/plain": [
       "   customer_id  transaction_month  transaction_day  transaction_amt  \\\n",
       "0       855115                  7                3             1500   \n",
       "1       997036                  6                6                0   \n",
       "\n",
       "   merchant_id  merchant_mcc  \n",
       "0      4554547          5411  \n",
       "1      1657528          5411  "
      ]
     },
     "execution_count": 8,
     "metadata": {},
     "output_type": "execute_result"
    }
   ],
   "source": [
    "print(transactions.shape)\n",
    "transactions.head(2)"
   ]
  },
  {
   "cell_type": "markdown",
   "metadata": {},
   "source": [
    "Четыре миллиона транзакций, блин, это ж жесть какая-то. Можно попробовать искать косинусное расстояние между юзерами или попробовать это как-то разложить.\n",
    "А еще можно попытаться выделить признаки по типу среднее количество транзакций etc, можно выделить периоды наибольшей активности пользователя.\n",
    "Кстати, можно еще попытаться кластеризовать юзеров по этим транзакциям, может, получится что-нибудь интересное."
   ]
  },
  {
   "cell_type": "code",
   "execution_count": 9,
   "metadata": {},
   "outputs": [
    {
     "name": "stdout",
     "output_type": "stream",
     "text": [
      "Уникальных юзеров: 46948\n",
      "Уникальных купцов: 664198 \n"
     ]
    }
   ],
   "source": [
    "print(f'Уникальных юзеров: {transactions.customer_id.nunique()}\\nУникальных купцов: ' + \n",
    "     f'{transactions.merchant_id.nunique()} ')"
   ]
  },
  {
   "cell_type": "markdown",
   "metadata": {},
   "source": [
    "## Файлы customer_train / customer_test"
   ]
  },
  {
   "cell_type": "code",
   "execution_count": 10,
   "metadata": {},
   "outputs": [
    {
     "name": "stdout",
     "output_type": "stream",
     "text": [
      "трейн: (50000, 15) \n",
      "Тест: (54245, 15)\n"
     ]
    },
    {
     "data": {
      "text/html": [
       "<div>\n",
       "<style scoped>\n",
       "    .dataframe tbody tr th:only-of-type {\n",
       "        vertical-align: middle;\n",
       "    }\n",
       "\n",
       "    .dataframe tbody tr th {\n",
       "        vertical-align: top;\n",
       "    }\n",
       "\n",
       "    .dataframe thead th {\n",
       "        text-align: right;\n",
       "    }\n",
       "</style>\n",
       "<table border=\"1\" class=\"dataframe\">\n",
       "  <thead>\n",
       "    <tr style=\"text-align: right;\">\n",
       "      <th></th>\n",
       "      <th>customer_id</th>\n",
       "      <th>product_0</th>\n",
       "      <th>product_1</th>\n",
       "      <th>product_2</th>\n",
       "      <th>product_3</th>\n",
       "      <th>product_4</th>\n",
       "      <th>product_5</th>\n",
       "      <th>product_6</th>\n",
       "      <th>gender_cd</th>\n",
       "      <th>age</th>\n",
       "      <th>marital_status_cd</th>\n",
       "      <th>children_cnt</th>\n",
       "      <th>first_session_dttm</th>\n",
       "      <th>job_position_cd</th>\n",
       "      <th>job_title</th>\n",
       "    </tr>\n",
       "  </thead>\n",
       "  <tbody>\n",
       "    <tr>\n",
       "      <th>0</th>\n",
       "      <td>894436</td>\n",
       "      <td>NaN</td>\n",
       "      <td>NaN</td>\n",
       "      <td>NaN</td>\n",
       "      <td>NaN</td>\n",
       "      <td>NaN</td>\n",
       "      <td>UTL</td>\n",
       "      <td>NaN</td>\n",
       "      <td>M</td>\n",
       "      <td>30.0</td>\n",
       "      <td>MAR</td>\n",
       "      <td>0.0</td>\n",
       "      <td>2018-03-20 09:10:16</td>\n",
       "      <td>1</td>\n",
       "      <td>Неруководящий сотрудник - обсл. Персонал</td>\n",
       "    </tr>\n",
       "    <tr>\n",
       "      <th>1</th>\n",
       "      <td>524526</td>\n",
       "      <td>NaN</td>\n",
       "      <td>UTL</td>\n",
       "      <td>NaN</td>\n",
       "      <td>NaN</td>\n",
       "      <td>NaN</td>\n",
       "      <td>UTL</td>\n",
       "      <td>NaN</td>\n",
       "      <td>F</td>\n",
       "      <td>20.0</td>\n",
       "      <td>UNM</td>\n",
       "      <td>0.0</td>\n",
       "      <td>2017-03-29 20:38:45</td>\n",
       "      <td>16</td>\n",
       "      <td>NaN</td>\n",
       "    </tr>\n",
       "    <tr>\n",
       "      <th>2</th>\n",
       "      <td>498134</td>\n",
       "      <td>NaN</td>\n",
       "      <td>UTL</td>\n",
       "      <td>NaN</td>\n",
       "      <td>NaN</td>\n",
       "      <td>NaN</td>\n",
       "      <td>NaN</td>\n",
       "      <td>NaN</td>\n",
       "      <td>F</td>\n",
       "      <td>25.0</td>\n",
       "      <td>UNM</td>\n",
       "      <td>0.0</td>\n",
       "      <td>2018-03-12 11:25:06</td>\n",
       "      <td>22</td>\n",
       "      <td>NaN</td>\n",
       "    </tr>\n",
       "  </tbody>\n",
       "</table>\n",
       "</div>"
      ],
      "text/plain": [
       "   customer_id product_0 product_1 product_2 product_3 product_4 product_5  \\\n",
       "0       894436       NaN       NaN       NaN       NaN       NaN       UTL   \n",
       "1       524526       NaN       UTL       NaN       NaN       NaN       UTL   \n",
       "2       498134       NaN       UTL       NaN       NaN       NaN       NaN   \n",
       "\n",
       "  product_6 gender_cd   age marital_status_cd  children_cnt  \\\n",
       "0       NaN         M  30.0               MAR           0.0   \n",
       "1       NaN         F  20.0               UNM           0.0   \n",
       "2       NaN         F  25.0               UNM           0.0   \n",
       "\n",
       "    first_session_dttm  job_position_cd  \\\n",
       "0  2018-03-20 09:10:16                1   \n",
       "1  2017-03-29 20:38:45               16   \n",
       "2  2018-03-12 11:25:06               22   \n",
       "\n",
       "                                  job_title  \n",
       "0  Неруководящий сотрудник - обсл. Персонал  \n",
       "1                                       NaN  \n",
       "2                                       NaN  "
      ]
     },
     "execution_count": 10,
     "metadata": {},
     "output_type": "execute_result"
    }
   ],
   "source": [
    "print(f'трейн: {cust_train.shape} \\nТест: {cust_test.shape}')\n",
    "cust_train.head(3)"
   ]
  },
  {
   "cell_type": "markdown",
   "metadata": {},
   "source": [
    "Я вот вообще не понимаю, что означают столбцы product_i. Что это за продукты и почему их всего семь? Из их описания: \"Статус продукта. OPN - открыт, но не утилизирован. UTL - утилизирован. CLS - закрыт\". Утилизирован - это как?\n",
    "\n",
    "А еще тест больше трейна, тоже прикольно."
   ]
  },
  {
   "cell_type": "code",
   "execution_count": 13,
   "metadata": {},
   "outputs": [],
   "source": [
    "cust_train['first_session_dttm'] = cust_train['first_session_dttm'].apply(pd.to_datetime)\n",
    "cust_test['first_session_dttm'] = cust_test['first_session_dttm'].apply(pd.to_datetime)"
   ]
  },
  {
   "cell_type": "code",
   "execution_count": 14,
   "metadata": {},
   "outputs": [
    {
     "data": {
      "text/plain": [
       "count                   49997\n",
       "unique                  49982\n",
       "top       2017-09-17 18:22:30\n",
       "freq                        2\n",
       "first     2012-06-05 20:14:32\n",
       "last      2019-08-21 08:14:41\n",
       "Name: first_session_dttm, dtype: object"
      ]
     },
     "execution_count": 14,
     "metadata": {},
     "output_type": "execute_result"
    }
   ],
   "source": [
    "cust_train['first_session_dttm'].describe()"
   ]
  },
  {
   "cell_type": "code",
   "execution_count": 15,
   "metadata": {},
   "outputs": [
    {
     "data": {
      "text/plain": [
       "count                   54239\n",
       "unique                  54223\n",
       "top       2017-01-14 10:40:30\n",
       "freq                        2\n",
       "first     2012-06-05 20:14:32\n",
       "last      2019-08-21 08:14:41\n",
       "Name: first_session_dttm, dtype: object"
      ]
     },
     "execution_count": 15,
     "metadata": {},
     "output_type": "execute_result"
    }
   ],
   "source": [
    "cust_test['first_session_dttm'].describe()"
   ]
  },
  {
   "cell_type": "markdown",
   "metadata": {},
   "source": [
    "О, норм, по крайней мере по сотрудникам split не time-based. В теории можно как-то использовать данные из будущего."
   ]
  },
  {
   "cell_type": "code",
   "execution_count": 63,
   "metadata": {},
   "outputs": [
    {
     "name": "stdout",
     "output_type": "stream",
     "text": [
      "Всего:  7414\n"
     ]
    },
    {
     "data": {
      "text/plain": [
       "Собственный неофициальный бизнес        1643\n",
       "Собственный официальный бизнес           956\n",
       "Неруководящий сотрудник - специалист     544\n",
       "СПЕЦИАЛИСТ                               357\n",
       "Пенсия по возрасту/стажу работы          345\n",
       "Генеральный директор                     293\n",
       "Менеджер по продажам                     289\n",
       "Инженер                                  261\n",
       "Директор                                 251\n",
       "Менеджер                                 251\n",
       "Name: job_title, dtype: int64"
      ]
     },
     "execution_count": 63,
     "metadata": {},
     "output_type": "execute_result"
    }
   ],
   "source": [
    "print('Всего: ', cust_train.job_title.nunique())\n",
    "cust_train.job_title.value_counts()[:10]"
   ]
  },
  {
   "cell_type": "markdown",
   "metadata": {},
   "source": [
    "Нифига тут должностей. Самые частые можно заэнкодить. Кстати, тут есть пары типа \"Менеджер\" - \"менеджер\", так что если все свести к нижнему регистру, их станет гораздо меньше."
   ]
  },
  {
   "cell_type": "code",
   "execution_count": 19,
   "metadata": {},
   "outputs": [
    {
     "data": {
      "text/plain": [
       "5858"
      ]
     },
     "execution_count": 19,
     "metadata": {},
     "output_type": "execute_result"
    }
   ],
   "source": [
    "cust_train.job_title.str.lower().nunique()"
   ]
  },
  {
   "cell_type": "markdown",
   "metadata": {},
   "source": [
    "Во, уже 6к вместо 7.5"
   ]
  },
  {
   "cell_type": "code",
   "execution_count": 64,
   "metadata": {},
   "outputs": [
    {
     "name": "stdout",
     "output_type": "stream",
     "text": [
      "Юзеров, которые есть и в трейне, и в тесте (логично, если 0):  50000\n"
     ]
    }
   ],
   "source": [
    "id_train = set(cust_train.customer_id.values)\n",
    "id_test = set(cust_test.customer_id.values)\n",
    "\n",
    "both = id_train & id_test\n",
    "print('Юзеров, которые есть и в трейне, и в тесте (логично, если 0): ', len(both))"
   ]
  },
  {
   "cell_type": "markdown",
   "metadata": {},
   "source": [
    "Шта? Типа все юзеры, которые есть в трейне, есть и в тесте?"
   ]
  },
  {
   "cell_type": "code",
   "execution_count": 28,
   "metadata": {},
   "outputs": [
    {
     "data": {
      "text/html": [
       "<div>\n",
       "<style scoped>\n",
       "    .dataframe tbody tr th:only-of-type {\n",
       "        vertical-align: middle;\n",
       "    }\n",
       "\n",
       "    .dataframe tbody tr th {\n",
       "        vertical-align: top;\n",
       "    }\n",
       "\n",
       "    .dataframe thead th {\n",
       "        text-align: right;\n",
       "    }\n",
       "</style>\n",
       "<table border=\"1\" class=\"dataframe\">\n",
       "  <thead>\n",
       "    <tr style=\"text-align: right;\">\n",
       "      <th></th>\n",
       "      <th>customer_id</th>\n",
       "      <th>product_0</th>\n",
       "      <th>product_1</th>\n",
       "      <th>product_2</th>\n",
       "      <th>product_3</th>\n",
       "      <th>product_4</th>\n",
       "      <th>product_5</th>\n",
       "      <th>product_6</th>\n",
       "      <th>gender_cd</th>\n",
       "      <th>age</th>\n",
       "      <th>marital_status_cd</th>\n",
       "      <th>children_cnt</th>\n",
       "      <th>first_session_dttm</th>\n",
       "      <th>job_position_cd</th>\n",
       "      <th>job_title</th>\n",
       "    </tr>\n",
       "  </thead>\n",
       "  <tbody>\n",
       "    <tr>\n",
       "      <th>0</th>\n",
       "      <td>894436</td>\n",
       "      <td>NaN</td>\n",
       "      <td>NaN</td>\n",
       "      <td>NaN</td>\n",
       "      <td>NaN</td>\n",
       "      <td>NaN</td>\n",
       "      <td>UTL</td>\n",
       "      <td>NaN</td>\n",
       "      <td>M</td>\n",
       "      <td>30.0</td>\n",
       "      <td>MAR</td>\n",
       "      <td>0.0</td>\n",
       "      <td>2018-03-20 09:10:16</td>\n",
       "      <td>1</td>\n",
       "      <td>Неруководящий сотрудник - обсл. Персонал</td>\n",
       "    </tr>\n",
       "    <tr>\n",
       "      <th>1</th>\n",
       "      <td>524526</td>\n",
       "      <td>NaN</td>\n",
       "      <td>UTL</td>\n",
       "      <td>NaN</td>\n",
       "      <td>NaN</td>\n",
       "      <td>NaN</td>\n",
       "      <td>UTL</td>\n",
       "      <td>NaN</td>\n",
       "      <td>F</td>\n",
       "      <td>20.0</td>\n",
       "      <td>UNM</td>\n",
       "      <td>0.0</td>\n",
       "      <td>2017-03-29 20:38:45</td>\n",
       "      <td>16</td>\n",
       "      <td>NaN</td>\n",
       "    </tr>\n",
       "    <tr>\n",
       "      <th>2</th>\n",
       "      <td>498134</td>\n",
       "      <td>NaN</td>\n",
       "      <td>UTL</td>\n",
       "      <td>NaN</td>\n",
       "      <td>NaN</td>\n",
       "      <td>NaN</td>\n",
       "      <td>NaN</td>\n",
       "      <td>NaN</td>\n",
       "      <td>F</td>\n",
       "      <td>25.0</td>\n",
       "      <td>UNM</td>\n",
       "      <td>0.0</td>\n",
       "      <td>2018-03-12 11:25:06</td>\n",
       "      <td>22</td>\n",
       "      <td>NaN</td>\n",
       "    </tr>\n",
       "  </tbody>\n",
       "</table>\n",
       "</div>"
      ],
      "text/plain": [
       "   customer_id product_0 product_1 product_2 product_3 product_4 product_5  \\\n",
       "0       894436       NaN       NaN       NaN       NaN       NaN       UTL   \n",
       "1       524526       NaN       UTL       NaN       NaN       NaN       UTL   \n",
       "2       498134       NaN       UTL       NaN       NaN       NaN       NaN   \n",
       "\n",
       "  product_6 gender_cd   age marital_status_cd  children_cnt  \\\n",
       "0       NaN         M  30.0               MAR           0.0   \n",
       "1       NaN         F  20.0               UNM           0.0   \n",
       "2       NaN         F  25.0               UNM           0.0   \n",
       "\n",
       "   first_session_dttm  job_position_cd  \\\n",
       "0 2018-03-20 09:10:16                1   \n",
       "1 2017-03-29 20:38:45               16   \n",
       "2 2018-03-12 11:25:06               22   \n",
       "\n",
       "                                  job_title  \n",
       "0  Неруководящий сотрудник - обсл. Персонал  \n",
       "1                                       NaN  \n",
       "2                                       NaN  "
      ]
     },
     "execution_count": 28,
     "metadata": {},
     "output_type": "execute_result"
    }
   ],
   "source": [
    "cust_train.head(3)"
   ]
  },
  {
   "cell_type": "code",
   "execution_count": 25,
   "metadata": {},
   "outputs": [
    {
     "data": {
      "text/html": [
       "<div>\n",
       "<style scoped>\n",
       "    .dataframe tbody tr th:only-of-type {\n",
       "        vertical-align: middle;\n",
       "    }\n",
       "\n",
       "    .dataframe tbody tr th {\n",
       "        vertical-align: top;\n",
       "    }\n",
       "\n",
       "    .dataframe thead th {\n",
       "        text-align: right;\n",
       "    }\n",
       "</style>\n",
       "<table border=\"1\" class=\"dataframe\">\n",
       "  <thead>\n",
       "    <tr style=\"text-align: right;\">\n",
       "      <th></th>\n",
       "      <th>product_0</th>\n",
       "      <th>product_1</th>\n",
       "      <th>product_2</th>\n",
       "      <th>product_3</th>\n",
       "      <th>product_4</th>\n",
       "      <th>product_5</th>\n",
       "      <th>product_6</th>\n",
       "      <th>gender_cd</th>\n",
       "      <th>age</th>\n",
       "      <th>marital_status_cd</th>\n",
       "      <th>children_cnt</th>\n",
       "      <th>first_session_dttm</th>\n",
       "      <th>job_position_cd</th>\n",
       "      <th>job_title</th>\n",
       "    </tr>\n",
       "    <tr>\n",
       "      <th>customer_id</th>\n",
       "      <th></th>\n",
       "      <th></th>\n",
       "      <th></th>\n",
       "      <th></th>\n",
       "      <th></th>\n",
       "      <th></th>\n",
       "      <th></th>\n",
       "      <th></th>\n",
       "      <th></th>\n",
       "      <th></th>\n",
       "      <th></th>\n",
       "      <th></th>\n",
       "      <th></th>\n",
       "      <th></th>\n",
       "    </tr>\n",
       "  </thead>\n",
       "  <tbody>\n",
       "    <tr>\n",
       "      <th>894436</th>\n",
       "      <td>NaN</td>\n",
       "      <td>NaN</td>\n",
       "      <td>NaN</td>\n",
       "      <td>NaN</td>\n",
       "      <td>NaN</td>\n",
       "      <td>UTL</td>\n",
       "      <td>NaN</td>\n",
       "      <td>M</td>\n",
       "      <td>30.0</td>\n",
       "      <td>MAR</td>\n",
       "      <td>0.0</td>\n",
       "      <td>2018-03-20 09:10:16</td>\n",
       "      <td>1</td>\n",
       "      <td>Неруководящий сотрудник - обсл. Персонал</td>\n",
       "    </tr>\n",
       "    <tr>\n",
       "      <th>524526</th>\n",
       "      <td>NaN</td>\n",
       "      <td>UTL</td>\n",
       "      <td>NaN</td>\n",
       "      <td>NaN</td>\n",
       "      <td>NaN</td>\n",
       "      <td>UTL</td>\n",
       "      <td>NaN</td>\n",
       "      <td>F</td>\n",
       "      <td>20.0</td>\n",
       "      <td>UNM</td>\n",
       "      <td>0.0</td>\n",
       "      <td>2017-03-29 20:38:45</td>\n",
       "      <td>16</td>\n",
       "      <td>NaN</td>\n",
       "    </tr>\n",
       "    <tr>\n",
       "      <th>498134</th>\n",
       "      <td>NaN</td>\n",
       "      <td>UTL</td>\n",
       "      <td>NaN</td>\n",
       "      <td>NaN</td>\n",
       "      <td>NaN</td>\n",
       "      <td>NaN</td>\n",
       "      <td>NaN</td>\n",
       "      <td>F</td>\n",
       "      <td>25.0</td>\n",
       "      <td>UNM</td>\n",
       "      <td>0.0</td>\n",
       "      <td>2018-03-12 11:25:06</td>\n",
       "      <td>22</td>\n",
       "      <td>NaN</td>\n",
       "    </tr>\n",
       "  </tbody>\n",
       "</table>\n",
       "</div>"
      ],
      "text/plain": [
       "            product_0 product_1 product_2 product_3 product_4 product_5  \\\n",
       "customer_id                                                               \n",
       "894436            NaN       NaN       NaN       NaN       NaN       UTL   \n",
       "524526            NaN       UTL       NaN       NaN       NaN       UTL   \n",
       "498134            NaN       UTL       NaN       NaN       NaN       NaN   \n",
       "\n",
       "            product_6 gender_cd   age marital_status_cd  children_cnt  \\\n",
       "customer_id                                                             \n",
       "894436            NaN         M  30.0               MAR           0.0   \n",
       "524526            NaN         F  20.0               UNM           0.0   \n",
       "498134            NaN         F  25.0               UNM           0.0   \n",
       "\n",
       "             first_session_dttm  job_position_cd  \\\n",
       "customer_id                                        \n",
       "894436      2018-03-20 09:10:16                1   \n",
       "524526      2017-03-29 20:38:45               16   \n",
       "498134      2018-03-12 11:25:06               22   \n",
       "\n",
       "                                            job_title  \n",
       "customer_id                                            \n",
       "894436       Неруководящий сотрудник - обсл. Персонал  \n",
       "524526                                            NaN  \n",
       "498134                                            NaN  "
      ]
     },
     "execution_count": 25,
     "metadata": {},
     "output_type": "execute_result"
    }
   ],
   "source": [
    "cust_test.set_index('customer_id').loc[[894436, 524526, 498134]]"
   ]
  },
  {
   "cell_type": "markdown",
   "metadata": {},
   "source": [
    "Походу да, все customer_train это подмножество customer_test. Интересно"
   ]
  },
  {
   "cell_type": "code",
   "execution_count": 32,
   "metadata": {},
   "outputs": [
    {
     "name": "stdout",
     "output_type": "stream",
     "text": [
      "20 \n",
      "\n",
      "\n"
     ]
    },
    {
     "data": {
      "text/plain": [
       "count    54245.000000\n",
       "mean        16.222749\n",
       "std          6.439372\n",
       "min          1.000000\n",
       "25%         16.000000\n",
       "50%         17.000000\n",
       "75%         22.000000\n",
       "max         22.000000\n",
       "Name: job_position_cd, dtype: float64"
      ]
     },
     "execution_count": 32,
     "metadata": {},
     "output_type": "execute_result"
    }
   ],
   "source": [
    "print(cust_test.job_position_cd.nunique(), '\\n\\n')\n",
    "cust_test.job_position_cd.describe()"
   ]
  },
  {
   "attachments": {
    "image.png": {
     "image/png": "[encoded data removed]"
    }
   },
   "cell_type": "markdown",
   "metadata": {},
   "source": [
    "Че это такое вообще?\n",
    "А, у них в табличке про это сказано.\n",
    "\n",
    "![image.png](attachment:image.png)"
   ]
  },
  {
   "cell_type": "markdown",
   "metadata": {},
   "source": [
    "Ну тип понятно, из этого можно много всяких разных признаков сварганить. Можно, опять же, считать расстояние между юзерами для коллаборативной фильтрации."
   ]
  },
  {
   "cell_type": "markdown",
   "metadata": {},
   "source": [
    "## Файлы stories_reaction_train/stories_reaction_test"
   ]
  },
  {
   "cell_type": "code",
   "execution_count": 33,
   "metadata": {},
   "outputs": [
    {
     "name": "stdout",
     "output_type": "stream",
     "text": [
      "(473141, 4) (172049, 4)\n"
     ]
    },
    {
     "data": {
      "text/html": [
       "<div>\n",
       "<style scoped>\n",
       "    .dataframe tbody tr th:only-of-type {\n",
       "        vertical-align: middle;\n",
       "    }\n",
       "\n",
       "    .dataframe tbody tr th {\n",
       "        vertical-align: top;\n",
       "    }\n",
       "\n",
       "    .dataframe thead th {\n",
       "        text-align: right;\n",
       "    }\n",
       "</style>\n",
       "<table border=\"1\" class=\"dataframe\">\n",
       "  <thead>\n",
       "    <tr style=\"text-align: right;\">\n",
       "      <th></th>\n",
       "      <th>customer_id</th>\n",
       "      <th>story_id</th>\n",
       "      <th>event_dttm</th>\n",
       "      <th>event</th>\n",
       "    </tr>\n",
       "  </thead>\n",
       "  <tbody>\n",
       "    <tr>\n",
       "      <th>0</th>\n",
       "      <td>15</td>\n",
       "      <td>138</td>\n",
       "      <td>2018-07-24 15:33:22</td>\n",
       "      <td>view</td>\n",
       "    </tr>\n",
       "    <tr>\n",
       "      <th>1</th>\n",
       "      <td>15</td>\n",
       "      <td>202</td>\n",
       "      <td>2018-06-04 08:08:08</td>\n",
       "      <td>skip</td>\n",
       "    </tr>\n",
       "    <tr>\n",
       "      <th>2</th>\n",
       "      <td>15</td>\n",
       "      <td>222</td>\n",
       "      <td>2018-06-17 13:44:45</td>\n",
       "      <td>skip</td>\n",
       "    </tr>\n",
       "  </tbody>\n",
       "</table>\n",
       "</div>"
      ],
      "text/plain": [
       "   customer_id  story_id           event_dttm event\n",
       "0           15       138  2018-07-24 15:33:22  view\n",
       "1           15       202  2018-06-04 08:08:08  skip\n",
       "2           15       222  2018-06-17 13:44:45  skip"
      ]
     },
     "execution_count": 33,
     "metadata": {},
     "output_type": "execute_result"
    }
   ],
   "source": [
    "print(react_train.shape, react_test.shape)\n",
    "react_train.head(3)"
   ]
  },
  {
   "cell_type": "code",
   "execution_count": 38,
   "metadata": {},
   "outputs": [
    {
     "data": {
      "text/html": [
       "<div>\n",
       "<style scoped>\n",
       "    .dataframe tbody tr th:only-of-type {\n",
       "        vertical-align: middle;\n",
       "    }\n",
       "\n",
       "    .dataframe tbody tr th {\n",
       "        vertical-align: top;\n",
       "    }\n",
       "\n",
       "    .dataframe thead th {\n",
       "        text-align: right;\n",
       "    }\n",
       "</style>\n",
       "<table border=\"1\" class=\"dataframe\">\n",
       "  <thead>\n",
       "    <tr style=\"text-align: right;\">\n",
       "      <th></th>\n",
       "      <th>customer_id</th>\n",
       "      <th>story_id</th>\n",
       "      <th>event_dttm</th>\n",
       "      <th>answer_id</th>\n",
       "    </tr>\n",
       "  </thead>\n",
       "  <tbody>\n",
       "    <tr>\n",
       "      <th>0</th>\n",
       "      <td>466906</td>\n",
       "      <td>1152</td>\n",
       "      <td>2018-08-01 00:00:46</td>\n",
       "      <td>0</td>\n",
       "    </tr>\n",
       "  </tbody>\n",
       "</table>\n",
       "</div>"
      ],
      "text/plain": [
       "   customer_id  story_id          event_dttm  answer_id\n",
       "0       466906      1152 2018-08-01 00:00:46          0"
      ]
     },
     "execution_count": 38,
     "metadata": {},
     "output_type": "execute_result"
    }
   ],
   "source": [
    "react_test.head(1)"
   ]
  },
  {
   "cell_type": "code",
   "execution_count": 35,
   "metadata": {},
   "outputs": [],
   "source": [
    "react_train['event_dttm'] = react_train['event_dttm'].apply(pd.to_datetime)\n",
    "react_test['event_dttm'] = react_test['event_dttm'].apply(pd.to_datetime)"
   ]
  },
  {
   "cell_type": "code",
   "execution_count": 36,
   "metadata": {},
   "outputs": [
    {
     "data": {
      "text/plain": [
       "count                  473141\n",
       "unique                 145692\n",
       "top       2018-06-01 12:32:25\n",
       "freq                       24\n",
       "first     2018-03-29 11:30:44\n",
       "last      2018-07-31 23:58:14\n",
       "Name: event_dttm, dtype: object"
      ]
     },
     "execution_count": 36,
     "metadata": {},
     "output_type": "execute_result"
    }
   ],
   "source": [
    "react_train['event_dttm'].describe()"
   ]
  },
  {
   "cell_type": "code",
   "execution_count": 37,
   "metadata": {},
   "outputs": [
    {
     "data": {
      "text/plain": [
       "count                  172049\n",
       "unique                  52832\n",
       "top       2018-08-21 12:39:21\n",
       "freq                       29\n",
       "first     2018-08-01 00:00:46\n",
       "last      2018-08-22 20:49:33\n",
       "Name: event_dttm, dtype: object"
      ]
     },
     "execution_count": 37,
     "metadata": {},
     "output_type": "execute_result"
    }
   ],
   "source": [
    "react_test['event_dttm'].describe()"
   ]
  },
  {
   "cell_type": "markdown",
   "metadata": {},
   "source": [
    "Во, здесь уже time-based split, так что дату из будущего использовать не получится. Ну ок."
   ]
  },
  {
   "cell_type": "code",
   "execution_count": 39,
   "metadata": {},
   "outputs": [
    {
     "data": {
      "text/plain": [
       "view       242312\n",
       "skip       167567\n",
       "like        56687\n",
       "dislike      6575\n",
       "Name: event, dtype: int64"
      ]
     },
     "execution_count": 39,
     "metadata": {},
     "output_type": "execute_result"
    }
   ],
   "source": [
    "react_train.event.value_counts()"
   ]
  },
  {
   "cell_type": "markdown",
   "metadata": {},
   "source": [
    "Знакомьтесь, дети, так выглядит несбалансированная выборка. Мне кажется, тут можно тупо взять и скопировать по 100 раз каждую строку с дизлайком и по 5 - с лайком (потому что веса их кастомной целевой функции так относятся). Кажется, должно сработать."
   ]
  },
  {
   "cell_type": "code",
   "execution_count": 40,
   "metadata": {},
   "outputs": [
    {
     "name": "stdout",
     "output_type": "stream",
     "text": [
      "Both: 670\n",
      "Only train: 243\n",
      "Only test: 132\n",
      "\n",
      "Train number: 913\n",
      "Test number: 802\n"
     ]
    }
   ],
   "source": [
    "train_stories = set(react_train.story_id.values)\n",
    "test_stories = set(react_test.story_id.values)\n",
    "\n",
    "both = train_stories & test_stories\n",
    "only_train = train_stories - test_stories\n",
    "only_test = test_stories - train_stories\n",
    "\n",
    "print(f'Both: {len(both)}\\nOnly train: {len(only_train)}\\nOnly test: {len(only_test)}\\n')\n",
    "print(f'Train number: {len(train_stories)}\\nTest number: {len(test_stories)}')"
   ]
  },
  {
   "cell_type": "markdown",
   "metadata": {},
   "source": [
    "15 процентов историй из теста не встречаются в трейне. Такое себе, на коллаборативной фильтрации мы далеко не уедем, надо и content-based тоже делать."
   ]
  },
  {
   "cell_type": "code",
   "execution_count": 42,
   "metadata": {},
   "outputs": [
    {
     "name": "stdout",
     "output_type": "stream",
     "text": [
      "211.5\n"
     ]
    }
   ],
   "source": [
    "import warnings\n",
    "warnings.filterwarnings('ignore')\n",
    "\n",
    "counts = react_train.story_id.value_counts().loc[test_stories].fillna(0.)\n",
    "print(counts.median())"
   ]
  },
  {
   "cell_type": "markdown",
   "metadata": {},
   "source": [
    "В среднем история из теста встречается в трейне 211 раз.\n",
    "\n",
    "<img src=\"https://pbs.twimg.com/media/D9vSJq9WsAASKwk.jpg\" alt=\"Drawing\" style=\"width: 400px;\"/>"
   ]
  },
  {
   "cell_type": "code",
   "execution_count": 46,
   "metadata": {},
   "outputs": [
    {
     "name": "stdout",
     "output_type": "stream",
     "text": [
      "Юзеров в трейне: 41001\n",
      "В тесте: 22646\n"
     ]
    }
   ],
   "source": [
    "train_c = set(react_train.customer_id.values)\n",
    "test_c = set(react_test.customer_id.values)\n",
    "\n",
    "print(f'Юзеров в трейне: {len(train_c)}\\nВ тесте: {len(test_c)}')"
   ]
  },
  {
   "cell_type": "code",
   "execution_count": 61,
   "metadata": {},
   "outputs": [
    {
     "name": "stdout",
     "output_type": "stream",
     "text": [
      "Всего юзеров, которые есть в stories_reaction_train, но которых нет в customer_train: 3178\n",
      "Всего юзеров, которые есть в stories_reaction_test, но которых нет в customer_test: 0\n",
      "\n",
      "\n",
      "Всего юзеров, которые есть в stories_reaction_train, но которых нет в customer_test: 0\n",
      "Всего юзеров, которые есть в stories_reaction_test, но которых нет в customer_train: 1813\n",
      "\n",
      "\n",
      "Всего юзеров, которые есть в stories_reaction_train, но которых нет в stories_reaction_test: 26741\n",
      "Всего юзеров, которые есть в stories_reaction_test, но которых нет в stories_reaction_train: 8386\n"
     ]
    }
   ],
   "source": [
    "print(f'Всего юзеров, которые есть в stories_reaction_train, но которых нет в customer_train: ' +\n",
    "     f'{len(train_c - id_train)}')\n",
    "print(f'Всего юзеров, которые есть в stories_reaction_test, но которых нет в customer_test: ' +\n",
    "     f'{len(test_c - id_test)}')\n",
    "print('\\n')\n",
    "print(f'Всего юзеров, которые есть в stories_reaction_train, но которых нет в customer_test: ' +\n",
    "     f'{len(train_c - id_test)}')\n",
    "print(f'Всего юзеров, которые есть в stories_reaction_test, но которых нет в customer_train: ' +\n",
    "     f'{len(test_c - id_train)}')\n",
    "print('\\n')\n",
    "print(f'Всего юзеров, которые есть в stories_reaction_train, но которых нет в stories_reaction_test: ' +\n",
    "     f'{len(train_c - test_c)}')\n",
    "print(f'Всего юзеров, которые есть в stories_reaction_test, но которых нет в stories_reaction_train: ' +\n",
    "     f'{len(test_c - train_c)}')"
   ]
  },
  {
   "cell_type": "markdown",
   "metadata": {},
   "source": [
    "Ничего не понимаю. Зачем тогда вообще нужен customer_train? Что за бред вообще?"
   ]
  },
  {
   "cell_type": "markdown",
   "metadata": {},
   "source": [
    "## В итоге ##\n",
    "\n",
    "Очевидно, одной моделью мы не обойдемся, надо стакать много разных. Из действий, которые сейчас приходят на ум:\n",
    "* Как модель первого уровня можно использовать какие-нибудь матричные разложения матрицы реакций на истории.\n",
    "* Взять что-нибудь наподобие взвешенного knn, где расстояние между пользователями искать как косинусное на матрицы транзакций или реакций на истории.\n",
    "* Нагенерить кучу фич из транзакций, реакций на истории и списка юзеров, а на них обучить зоопарк.\n",
    "* Попробовать выделить фичи из текста историй.\n",
    "* Можно попытаться кластеризовать пользователей и истории, это может сработать.\n",
    "\n",
    "Отдельно стоит вопрос, обучать классификацию на четыре класса (дизлайк, скип, вью и лайк) или два (+1/-1). Мне кажется, можно насэмплить дизлайков и лайков, как я раньше писал, и обучать на два класса, а сдавать в систему предсказанные вероятности. Или же можно обучать классификацию на 4 класса, а дальше их как-то взвешенно сложить, но я пока что не понимаю, как."
   ]
  }
 ],
 "metadata": {
  "kernelspec": {
   "display_name": "Python 3",
   "language": "python",
   "name": "python3"
  },
  "language_info": {
   "codemirror_mode": {
    "name": "ipython",
    "version": 3
   },
   "file_extension": ".py",
   "mimetype": "text/x-python",
   "name": "python",
   "nbconvert_exporter": "python",
   "pygments_lexer": "ipython3",
   "version": "3.7.3"
  }
 },
 "nbformat": 4,
 "nbformat_minor": 2
}
