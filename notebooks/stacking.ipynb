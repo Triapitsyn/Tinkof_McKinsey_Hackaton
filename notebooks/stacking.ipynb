{
  "nbformat": 4,
  "nbformat_minor": 0,
  "metadata": {
    "colab": {
      "name": "stacking.ipynb",
      "provenance": [],
      "collapsed_sections": []
    },
    "kernelspec": {
      "name": "python3",
      "display_name": "Python 3"
    },
    "accelerator": "GPU"
  },
  "cells": [
    {
      "cell_type": "code",
      "metadata": {
        "id": "0V8tDQBqeVc8",
        "colab_type": "code",
        "colab": {}
      },
      "source": [
        "# Не трожь, оно тебя сожрет!\n",
        "!pip install catboost"
      ],
      "execution_count": 0,
      "outputs": []
    },
    {
      "cell_type": "code",
      "metadata": {
        "id": "Iqc19EYgeofL",
        "colab_type": "code",
        "colab": {}
      },
      "source": [
        "import numpy as np\n",
        "import pandas as pd\n",
        "import matplotlib.pyplot as plt\n",
        "import seaborn as sns\n",
        "import catboost\n",
        "sns.set()\n",
        "\n",
        "from preprocessing import preprocess_customer, preprocess_reactions\n",
        "from answering import choose_from_proba\n",
        "\n",
        "from sklearn.metrics import accuracy_score, confusion_matrix\n",
        "from sklearn.model_selection import train_test_split"
      ],
      "execution_count": 0,
      "outputs": []
    },
    {
      "cell_type": "code",
      "metadata": {
        "id": "FdpoTUuwesmr",
        "colab_type": "code",
        "colab": {}
      },
      "source": [
        "path = '/content/'\n",
        "\n",
        "cust = pd.read_csv(path + 'customer_test.csv')\n",
        "transactions = pd.read_csv(path + 'transactions.csv')\n",
        "react_train = pd.read_csv(path + 'stories_reaction_train.csv')\n",
        "react_test = pd.read_csv(path + 'stories_reaction_test.csv')\n",
        "descr = pd.read_csv(path + 'stories_description.csv')\n",
        "sample = pd.read_csv(path + 'sample_submit.csv')"
      ],
      "execution_count": 0,
      "outputs": []
    },
    {
      "cell_type": "code",
      "metadata": {
        "id": "LGO7fdiWw6jQ",
        "colab_type": "code",
        "outputId": "ad020fab-a76f-4974-b928-099369f6c919",
        "colab": {
          "base_uri": "https://localhost:8080/",
          "height": 34
        }
      },
      "source": [
        "new_cust = preprocess_customer(cust, transactions, react_train, encodings=['mean', 'frequency', 'std'])\n",
        "train, test = preprocess_reactions(react_train, react_test, encodings = ['mean', 'frequency', 'std'])\n",
        "\n",
        "train = train.join(new_cust.set_index('customer_id'), on = 'customer_id')\n",
        "test = test.join(new_cust.set_index('customer_id'), on = 'customer_id')"
      ],
      "execution_count": 3,
      "outputs": [
        {
          "output_type": "stream",
          "text": [
            "like, view, skip, dislike =  [1 3 2 0]\n"
          ],
          "name": "stdout"
        }
      ]
    },
    {
      "cell_type": "code",
      "metadata": {
        "id": "jAr7j_tHyGUX",
        "colab_type": "code",
        "colab": {}
      },
      "source": [
        "from sklearn.utils import shuffle\n",
        "\n",
        "train = shuffle(train, random_state=42).reset_index(drop=True)"
      ],
      "execution_count": 0,
      "outputs": []
    },
    {
      "cell_type": "code",
      "metadata": {
        "id": "__geUUk2y8KR",
        "colab_type": "code",
        "colab": {}
      },
      "source": [
        "y = train['event']\n",
        "train.drop('event', axis=1, inplace=True)"
      ],
      "execution_count": 0,
      "outputs": []
    },
    {
      "cell_type": "code",
      "metadata": {
        "id": "e4Ac-xIxzC0f",
        "colab_type": "code",
        "outputId": "c32d6dd7-8c03-4132-a676-dd37e58a8abb",
        "colab": {
          "base_uri": "https://localhost:8080/",
          "height": 34
        }
      },
      "source": [
        "train.shape"
      ],
      "execution_count": 6,
      "outputs": [
        {
          "output_type": "execute_result",
          "data": {
            "text/plain": [
              "(473141, 244)"
            ]
          },
          "metadata": {
            "tags": []
          },
          "execution_count": 6
        }
      ]
    },
    {
      "cell_type": "code",
      "metadata": {
        "id": "_oUbfL6C0UY6",
        "colab_type": "code",
        "colab": {}
      },
      "source": [
        "num_all = train.shape[0]\n",
        "first_level = int(0.6 * num_all)\n",
        "second_level = int(0.8 * num_all)\n",
        "\n",
        "X_first = train[:first_level]\n",
        "X_second = train[first_level:second_level]\n",
        "X_val = train[second_level:]\n",
        "\n",
        "y_first = y[:first_level]\n",
        "y_second = y[first_level:second_level]\n",
        "y_val = y[second_level:]"
      ],
      "execution_count": 0,
      "outputs": []
    },
    {
      "cell_type": "code",
      "metadata": {
        "id": "yn__yH4y2WCA",
        "colab_type": "code",
        "colab": {}
      },
      "source": [
        "train_meta = pd.DataFrame()\n",
        "val_meta = pd.DataFrame()\n",
        "test_meta = pd.DataFrame()"
      ],
      "execution_count": 0,
      "outputs": []
    },
    {
      "cell_type": "code",
      "metadata": {
        "id": "CRyvZJ6q3Mlz",
        "colab_type": "code",
        "colab": {}
      },
      "source": [
        "def add_preds(name, train_probas, val_probas, test_probas):\n",
        "  for i, cl in enumerate(['_dislike', '_like', '_skip', '_view']):\n",
        "    train_meta[name + cl] = train_probas[:,i]\n",
        "    val_meta[name + cl] = val_probas[:,i]    \n",
        "    test_meta[name + cl] = test_probas[:,i]    "
      ],
      "execution_count": 0,
      "outputs": []
    },
    {
      "cell_type": "code",
      "metadata": {
        "id": "tbtOhm6u8QmD",
        "colab_type": "code",
        "colab": {}
      },
      "source": [
        "def custom_metric(y_test, y_true):\n",
        "  p_dislike = y_test[:, 0]\n",
        "  p_like = y_test[:, 1]\n",
        "  p_skip = y_test[:, 2]\n",
        "  p_view = y_test[:, 3]\n",
        "  exp = -10 * p_dislike - 0.1 * p_skip + 0.1 * p_view + 0.5 * p_like\n",
        "  res = pd.Series(exp).apply(lambda x: 1 if x > 0 else -1)\n",
        "  \n",
        "  s = 0\n",
        "  real = 0\n",
        "  for i in range(res.shape[0]):\n",
        "    if y_true[i] == 0:\n",
        "      s -= res[i] * 10\n",
        "      real += 10\n",
        "    elif y_true[i] == 1:\n",
        "      s += res[i] * 0.5\n",
        "      real += 0.5\n",
        "    elif y_true[i] == 2:\n",
        "      s -= res[i] * 0.1\n",
        "      real += 0.1\n",
        "    else:\n",
        "      s += res[i] * 0.1\n",
        "      real += 0.1\n",
        "  return s / real"
      ],
      "execution_count": 0,
      "outputs": []
    },
    {
      "cell_type": "markdown",
      "metadata": {
        "id": "IdLgib-91c0h",
        "colab_type": "text"
      },
      "source": [
        "## Catboost ##"
      ]
    },
    {
      "cell_type": "code",
      "metadata": {
        "id": "ZejRhO3A1gSi",
        "colab_type": "code",
        "outputId": "3b32f579-40c1-4734-9326-c449e069dfd6",
        "colab": {
          "base_uri": "https://localhost:8080/",
          "height": 34
        }
      },
      "source": [
        "model = catboost.CatBoostClassifier(\n",
        "    loss_function='MultiClass',\n",
        "    task_type='GPU',\n",
        "    custom_loss=['Accuracy']\n",
        ")\n",
        "\n",
        "train_pool = catboost.Pool(data=X_first.values, label=y_first.values)\n",
        "\n",
        "model.fit(train_pool, logging_level='Silent')"
      ],
      "execution_count": 12,
      "outputs": [
        {
          "output_type": "execute_result",
          "data": {
            "text/plain": [
              "<catboost.core.CatBoostClassifier at 0x7fd28fbea7b8>"
            ]
          },
          "metadata": {
            "tags": []
          },
          "execution_count": 12
        }
      ]
    },
    {
      "cell_type": "code",
      "metadata": {
        "id": "7f8X25Fh1-MI",
        "colab_type": "code",
        "outputId": "548e9902-c13f-49cb-bd75-5a2df7589f63",
        "colab": {
          "base_uri": "https://localhost:8080/",
          "height": 34
        }
      },
      "source": [
        "y_val_pred = model.predict(X_second)\n",
        "accuracy_score(y_second, y_val_pred)"
      ],
      "execution_count": 13,
      "outputs": [
        {
          "output_type": "execute_result",
          "data": {
            "text/plain": [
              "0.7149258147694129"
            ]
          },
          "metadata": {
            "tags": []
          },
          "execution_count": 13
        }
      ]
    },
    {
      "cell_type": "code",
      "metadata": {
        "id": "HSutIOa_9T0O",
        "colab_type": "code",
        "outputId": "c33c65b8-2e69-45b1-dc8e-3121f9d06be5",
        "colab": {
          "base_uri": "https://localhost:8080/",
          "height": 34
        }
      },
      "source": [
        "custom_metric(model.predict_proba(X_second), y_second.values)"
      ],
      "execution_count": 14,
      "outputs": [
        {
          "output_type": "execute_result",
          "data": {
            "text/plain": [
              "0.6787344884111665"
            ]
          },
          "metadata": {
            "tags": []
          },
          "execution_count": 14
        }
      ]
    },
    {
      "cell_type": "code",
      "metadata": {
        "id": "RcMOKRBL2EKm",
        "colab_type": "code",
        "colab": {}
      },
      "source": [
        "train_probas = model.predict_proba(X_second)\n",
        "val_probas = model.predict_proba(X_val)\n",
        "test_probas = model.predict_proba(test)\n",
        "\n",
        "add_preds('catboost', train_probas, val_probas, test_probas)"
      ],
      "execution_count": 0,
      "outputs": []
    },
    {
      "cell_type": "markdown",
      "metadata": {
        "id": "CQPiAm2M4MYN",
        "colab_type": "text"
      },
      "source": [
        "## xgboost ##"
      ]
    },
    {
      "cell_type": "code",
      "metadata": {
        "id": "6J-8XkZd5eXM",
        "colab_type": "code",
        "colab": {}
      },
      "source": [
        "import xgboost as xgb"
      ],
      "execution_count": 0,
      "outputs": []
    },
    {
      "cell_type": "code",
      "metadata": {
        "id": "4lg39HdU4VZM",
        "colab_type": "code",
        "colab": {}
      },
      "source": [
        "xgb_first = xgb.DMatrix(X_first.values, label=y_first.values)\n",
        "xgb_second = xgb.DMatrix(X_second.values, label=y_second.values)\n",
        "xgb_val = xgb.DMatrix(X_val.values, label=y_val.values)\n",
        "xgb_test = xgb.DMatrix(test.values)"
      ],
      "execution_count": 0,
      "outputs": []
    },
    {
      "cell_type": "code",
      "metadata": {
        "id": "CEBmxkjP5k0L",
        "colab_type": "code",
        "colab": {}
      },
      "source": [
        "param = {'gpu_id' : 0, 'tree_method' : 'gpu_hist', 'max_bin' : 1024, 'objective' : 'multi:softmax', 'seed' : 42,\n",
        "        'num_class' : 4}\n",
        "\n",
        "tree_boosting = xgb.train(param, xgb_first, num_boost_round = 50)"
      ],
      "execution_count": 0,
      "outputs": []
    },
    {
      "cell_type": "code",
      "metadata": {
        "id": "lmKc4AWj626W",
        "colab_type": "code",
        "outputId": "d1f74997-bb6c-495c-96b5-317110bf54cb",
        "colab": {
          "base_uri": "https://localhost:8080/",
          "height": 34
        }
      },
      "source": [
        "y_val_pred = tree_boosting.predict(xgb_second)\n",
        "accuracy_score(y_second, y_val_pred)"
      ],
      "execution_count": 19,
      "outputs": [
        {
          "output_type": "execute_result",
          "data": {
            "text/plain": [
              "0.7141649406095447"
            ]
          },
          "metadata": {
            "tags": []
          },
          "execution_count": 19
        }
      ]
    },
    {
      "cell_type": "code",
      "metadata": {
        "id": "7ckeP_In-9eS",
        "colab_type": "code",
        "outputId": "cf3d0f12-23f8-46d4-8b21-c02807a071f3",
        "colab": {
          "base_uri": "https://localhost:8080/",
          "height": 34
        }
      },
      "source": [
        "from scipy.special import softmax\n",
        "\n",
        "margins = tree_boosting.predict(xgb_second, output_margin=True)\n",
        "probas = softmax(margins, axis=1)\n",
        "custom_metric(probas, y_second.values)"
      ],
      "execution_count": 20,
      "outputs": [
        {
          "output_type": "execute_result",
          "data": {
            "text/plain": [
              "0.6756394872404831"
            ]
          },
          "metadata": {
            "tags": []
          },
          "execution_count": 20
        }
      ]
    },
    {
      "cell_type": "code",
      "metadata": {
        "id": "XHxqFR8YCPab",
        "colab_type": "code",
        "colab": {}
      },
      "source": [
        "train_margins = tree_boosting.predict(xgb_second, output_margin=True)\n",
        "train_probas = softmax(train_margins, axis=1)\n",
        "\n",
        "val_margins = tree_boosting.predict(xgb_val, output_margin=True)\n",
        "val_probas = softmax(val_margins, axis=1)\n",
        "\n",
        "test_margins = tree_boosting.predict(xgb_test, output_margin=True)\n",
        "test_probas = softmax(test_margins, axis=1)\n",
        "\n",
        "add_preds('xgboost_boosting', train_probas, val_probas, test_probas)"
      ],
      "execution_count": 0,
      "outputs": []
    },
    {
      "cell_type": "markdown",
      "metadata": {
        "id": "JgopbY5wbiCv",
        "colab_type": "text"
      },
      "source": [
        "## NN ##"
      ]
    },
    {
      "cell_type": "code",
      "metadata": {
        "id": "vGiorbrebpHM",
        "colab_type": "code",
        "colab": {}
      },
      "source": [
        "from sklearn.preprocessing import StandardScaler\n",
        "\n",
        "scaler = StandardScaler().fit(np.concatenate([X_first, X_second, X_val, test.values]))"
      ],
      "execution_count": 0,
      "outputs": []
    },
    {
      "cell_type": "code",
      "metadata": {
        "id": "t0equHDTiWAM",
        "colab_type": "code",
        "colab": {}
      },
      "source": [
        "X_first_scaled = scaler.transform(X_first)\n",
        "X_second_scaled = scaler.transform(X_second)\n",
        "X_val_scaled = scaler.transform(X_val)\n",
        "test_scaled = scaler.transform(test)"
      ],
      "execution_count": 0,
      "outputs": []
    },
    {
      "cell_type": "code",
      "metadata": {
        "id": "QNLJeVqeixZ7",
        "colab_type": "code",
        "colab": {}
      },
      "source": [
        "import tensorflow.keras as keras"
      ],
      "execution_count": 0,
      "outputs": []
    },
    {
      "cell_type": "code",
      "metadata": {
        "id": "JCphs8Rfi3Zd",
        "colab_type": "code",
        "colab": {}
      },
      "source": [
        "y_first_cat = keras.utils.to_categorical(y_first)\n",
        "y_second_cat = keras.utils.to_categorical(y_second)\n",
        "y_val_cat = keras.utils.to_categorical(y_val)"
      ],
      "execution_count": 0,
      "outputs": []
    },
    {
      "cell_type": "code",
      "metadata": {
        "id": "vkzKiBcMjbPI",
        "colab_type": "code",
        "colab": {
          "base_uri": "https://localhost:8080/",
          "height": 87
        },
        "outputId": "144cd590-0c34-499b-ee46-7c3056aa697e"
      },
      "source": [
        "model = keras.models.Sequential([\n",
        "    keras.layers.InputLayer(input_shape=(244)),\n",
        "    keras.layers.Dense(256, activation='tanh'),\n",
        "    keras.layers.Dense(128, activation='tanh'),\n",
        "    keras.layers.Dense(64, activation='tanh'),\n",
        "    keras.layers.Dense(16, activation='tanh'),\n",
        "    keras.layers.Dense(4, activation='softmax'),\n",
        "])"
      ],
      "execution_count": 26,
      "outputs": [
        {
          "output_type": "stream",
          "text": [
            "WARNING:tensorflow:From /usr/local/lib/python3.6/dist-packages/tensorflow/python/ops/init_ops.py:1251: calling VarianceScaling.__init__ (from tensorflow.python.ops.init_ops) with dtype is deprecated and will be removed in a future version.\n",
            "Instructions for updating:\n",
            "Call initializer instance with the dtype argument instead of passing it to the constructor\n"
          ],
          "name": "stdout"
        }
      ]
    },
    {
      "cell_type": "code",
      "metadata": {
        "id": "wFzaedtekSSv",
        "colab_type": "code",
        "colab": {
          "base_uri": "https://localhost:8080/",
          "height": 238
        },
        "outputId": "f37e2226-8b5e-4168-9990-e4029a6bab45"
      },
      "source": [
        "model.compile('adam', loss='categorical_crossentropy', metrics=['accuracy'])\n",
        "\n",
        "model.fit(X_first_scaled, y_first_cat, epochs=5, validation_data=(X_second_scaled, y_second_cat))"
      ],
      "execution_count": 27,
      "outputs": [
        {
          "output_type": "stream",
          "text": [
            "Train on 283884 samples, validate on 94628 samples\n",
            "Epoch 1/5\n",
            "283884/283884 [==============================] - 47s 165us/sample - loss: 0.6695 - acc: 0.6957 - val_loss: 0.6561 - val_acc: 0.6977\n",
            "Epoch 2/5\n",
            "283884/283884 [==============================] - 45s 160us/sample - loss: 0.6518 - acc: 0.7015 - val_loss: 0.6487 - val_acc: 0.7054\n",
            "Epoch 3/5\n",
            "283884/283884 [==============================] - 46s 164us/sample - loss: 0.6463 - acc: 0.7036 - val_loss: 0.6422 - val_acc: 0.7076\n",
            "Epoch 4/5\n",
            "283884/283884 [==============================] - 46s 161us/sample - loss: 0.6418 - acc: 0.7059 - val_loss: 0.6447 - val_acc: 0.7067\n",
            "Epoch 5/5\n",
            "283884/283884 [==============================] - 45s 159us/sample - loss: 0.6393 - acc: 0.7072 - val_loss: 0.6432 - val_acc: 0.7072\n"
          ],
          "name": "stdout"
        },
        {
          "output_type": "execute_result",
          "data": {
            "text/plain": [
              "<tensorflow.python.keras.callbacks.History at 0x7fd277251668>"
            ]
          },
          "metadata": {
            "tags": []
          },
          "execution_count": 27
        }
      ]
    },
    {
      "cell_type": "code",
      "metadata": {
        "id": "uJcZHVKinEIp",
        "colab_type": "code",
        "colab": {
          "base_uri": "https://localhost:8080/",
          "height": 34
        },
        "outputId": "9ba1b269-60f5-4890-e82f-89bafccc399f"
      },
      "source": [
        "custom_metric(model.predict(X_second_scaled), y_second.values)"
      ],
      "execution_count": 28,
      "outputs": [
        {
          "output_type": "execute_result",
          "data": {
            "text/plain": [
              "0.6537257082660539"
            ]
          },
          "metadata": {
            "tags": []
          },
          "execution_count": 28
        }
      ]
    },
    {
      "cell_type": "code",
      "metadata": {
        "id": "bb-Q0NLwoONa",
        "colab_type": "code",
        "colab": {}
      },
      "source": [
        "train_probas = model.predict(X_second_scaled)\n",
        "val_probas = model.predict(X_val_scaled)\n",
        "test_probas = model.predict(test_scaled)\n",
        "\n",
        "add_preds('NN', train_probas, val_probas, test_probas)"
      ],
      "execution_count": 0,
      "outputs": []
    },
    {
      "cell_type": "code",
      "metadata": {
        "id": "exxrf1RpwnpR",
        "colab_type": "code",
        "colab": {}
      },
      "source": [
        "train_meta.to_csv('train_meta.csv', index=False)\n",
        "val_meta.to_csv('val_meta.csv', index=False)\n",
        "test_meta.to_csv('test_meta.csv', index=False)"
      ],
      "execution_count": 0,
      "outputs": []
    },
    {
      "cell_type": "markdown",
      "metadata": {
        "id": "6j9SglOo1H4N",
        "colab_type": "text"
      },
      "source": [
        "## Random Forest ##"
      ]
    },
    {
      "cell_type": "code",
      "metadata": {
        "id": "C3GhmJ9a1Lrc",
        "colab_type": "code",
        "colab": {}
      },
      "source": [
        "from sklearn.ensemble import RandomForestClassifier"
      ],
      "execution_count": 0,
      "outputs": []
    },
    {
      "cell_type": "code",
      "metadata": {
        "id": "CSVsm_y91Qm2",
        "colab_type": "code",
        "colab": {
          "base_uri": "https://localhost:8080/",
          "height": 134
        },
        "outputId": "03ba1128-ed99-41a2-99ee-20da5179278a"
      },
      "source": [
        "model = RandomForestClassifier(100)\n",
        "model.fit(X_first, y_first)"
      ],
      "execution_count": 15,
      "outputs": [
        {
          "output_type": "execute_result",
          "data": {
            "text/plain": [
              "RandomForestClassifier(bootstrap=True, class_weight=None, criterion='gini',\n",
              "                       max_depth=None, max_features='auto', max_leaf_nodes=None,\n",
              "                       min_impurity_decrease=0.0, min_impurity_split=None,\n",
              "                       min_samples_leaf=1, min_samples_split=2,\n",
              "                       min_weight_fraction_leaf=0.0, n_estimators=100,\n",
              "                       n_jobs=None, oob_score=False, random_state=None,\n",
              "                       verbose=0, warm_start=False)"
            ]
          },
          "metadata": {
            "tags": []
          },
          "execution_count": 15
        }
      ]
    },
    {
      "cell_type": "code",
      "metadata": {
        "id": "go87Av7M2Tnm",
        "colab_type": "code",
        "colab": {
          "base_uri": "https://localhost:8080/",
          "height": 34
        },
        "outputId": "26d7f5c1-c77a-4f27-8df7-9874b7ecd06d"
      },
      "source": [
        "y_val_pred = model.predict(X_second)\n",
        "accuracy_score(y_second, y_val_pred)"
      ],
      "execution_count": 16,
      "outputs": [
        {
          "output_type": "execute_result",
          "data": {
            "text/plain": [
              "0.7037663270913471"
            ]
          },
          "metadata": {
            "tags": []
          },
          "execution_count": 16
        }
      ]
    },
    {
      "cell_type": "code",
      "metadata": {
        "id": "-tO3ipOY2Zll",
        "colab_type": "code",
        "colab": {
          "base_uri": "https://localhost:8080/",
          "height": 34
        },
        "outputId": "5762aff5-d8b5-43de-918d-e2f2c256e2ec"
      },
      "source": [
        "custom_metric(model.predict_proba(X_second), y_second.values)"
      ],
      "execution_count": 19,
      "outputs": [
        {
          "output_type": "execute_result",
          "data": {
            "text/plain": [
              "0.5905525638034356"
            ]
          },
          "metadata": {
            "tags": []
          },
          "execution_count": 19
        }
      ]
    },
    {
      "cell_type": "code",
      "metadata": {
        "colab_type": "code",
        "id": "WOt6gPvA2vl-",
        "colab": {}
      },
      "source": [
        "train_probas = model.predict_proba(X_second)\n",
        "val_probas = model.predict_proba(X_val)\n",
        "test_probas = model.predict_proba(test)\n",
        "\n",
        "add_preds('random_forest', train_probas, val_probas, test_probas)"
      ],
      "execution_count": 0,
      "outputs": []
    },
    {
      "cell_type": "markdown",
      "metadata": {
        "id": "h33_UkTM4gIF",
        "colab_type": "text"
      },
      "source": [
        "## Финальный бленд ##"
      ]
    },
    {
      "cell_type": "code",
      "metadata": {
        "id": "q50uh3QH4kiV",
        "colab_type": "code",
        "colab": {
          "base_uri": "https://localhost:8080/",
          "height": 34
        },
        "outputId": "e3b3503a-917c-4b9b-e9ea-d504b62bf033"
      },
      "source": [
        "model = catboost.CatBoostClassifier(\n",
        "    loss_function='MultiClass',\n",
        "    task_type='GPU',\n",
        "    custom_loss=['Accuracy']\n",
        ")\n",
        "\n",
        "train_pool = catboost.Pool(data=train_meta.values, label=y_second.values)\n",
        "\n",
        "model.fit(train_pool, logging_level='Silent')"
      ],
      "execution_count": 24,
      "outputs": [
        {
          "output_type": "execute_result",
          "data": {
            "text/plain": [
              "<catboost.core.CatBoostClassifier at 0x7f10613a5048>"
            ]
          },
          "metadata": {
            "tags": []
          },
          "execution_count": 24
        }
      ]
    },
    {
      "cell_type": "code",
      "metadata": {
        "colab_type": "code",
        "outputId": "06e7156e-4843-49c2-d621-1e9ed3b4c6f3",
        "id": "g-qg_FL643T3",
        "colab": {
          "base_uri": "https://localhost:8080/",
          "height": 34
        }
      },
      "source": [
        "y_val_pred = model.predict(val_meta.values)\n",
        "accuracy_score(y_val, y_val_pred)"
      ],
      "execution_count": 26,
      "outputs": [
        {
          "output_type": "execute_result",
          "data": {
            "text/plain": [
              "0.7122552283126737"
            ]
          },
          "metadata": {
            "tags": []
          },
          "execution_count": 26
        }
      ]
    },
    {
      "cell_type": "code",
      "metadata": {
        "colab_type": "code",
        "outputId": "f473feba-28c7-4edf-e476-dd72343acf08",
        "id": "1LTmQaaJ43UL",
        "colab": {
          "base_uri": "https://localhost:8080/",
          "height": 34
        }
      },
      "source": [
        "custom_metric(model.predict_proba(val_meta.values), y_val.values)"
      ],
      "execution_count": 27,
      "outputs": [
        {
          "output_type": "execute_result",
          "data": {
            "text/plain": [
              "0.6751179508560535"
            ]
          },
          "metadata": {
            "tags": []
          },
          "execution_count": 27
        }
      ]
    },
    {
      "cell_type": "code",
      "metadata": {
        "colab_type": "code",
        "id": "VMYHbaou43UQ",
        "colab": {}
      },
      "source": [
        "sample['score'] = choose_from_proba(model, test_meta.values)"
      ],
      "execution_count": 0,
      "outputs": []
    },
    {
      "cell_type": "code",
      "metadata": {
        "id": "T_JpxccN5dYz",
        "colab_type": "code",
        "colab": {}
      },
      "source": [
        "sample.to_csv('try_stacking.csv', index=False)"
      ],
      "execution_count": 0,
      "outputs": []
    },
    {
      "cell_type": "code",
      "metadata": {
        "id": "X5VybFLE6Ew3",
        "colab_type": "code",
        "colab": {
          "base_uri": "https://localhost:8080/",
          "height": 286
        },
        "outputId": "1f98226f-68ee-449a-bdce-c36600a01ff7"
      },
      "source": [
        "imp = zip(model.feature_importances_, test_meta.columns)\n",
        "print(*sorted(imp, reverse=True), sep='\\n')"
      ],
      "execution_count": 35,
      "outputs": [
        {
          "output_type": "stream",
          "text": [
            "(13.306554480773437, 'xgboost_boosting_dislike')\n",
            "(12.109943534104733, 'xgboost_boosting_like')\n",
            "(9.797578929818108, 'catboost_like')\n",
            "(8.932699264562501, 'catboost_view')\n",
            "(7.814698148453407, 'catboost_dislike')\n",
            "(6.978581114058881, 'NN_dislike')\n",
            "(6.7845021985819844, 'xgboost_boosting_view')\n",
            "(6.546300247986658, 'NN_like')\n",
            "(5.223641213063292, 'catboost_skip')\n",
            "(4.309676719217337, 'random_forest_like')\n",
            "(4.276191236511381, 'xgboost_boosting_skip')\n",
            "(3.739239803386922, 'NN_view')\n",
            "(3.1889435319115593, 'random_forest_view')\n",
            "(2.8613245952725292, 'random_forest_skip')\n",
            "(2.6498210473495676, 'NN_skip')\n",
            "(1.4803039349477292, 'random_forest_dislike')\n"
          ],
          "name": "stdout"
        }
      ]
    }
  ]
}