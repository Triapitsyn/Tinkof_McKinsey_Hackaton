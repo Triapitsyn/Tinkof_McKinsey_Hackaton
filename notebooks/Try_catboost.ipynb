{
  "nbformat": 4,
  "nbformat_minor": 0,
  "metadata": {
    "colab": {
      "name": "Try catboost.ipynb",
      "provenance": [],
      "collapsed_sections": []
    },
    "kernelspec": {
      "name": "python3",
      "display_name": "Python 3"
    },
    "accelerator": "GPU"
  },
  "cells": [
    {
      "cell_type": "code",
      "metadata": {
        "id": "lFzTv1QhxrDV",
        "colab_type": "code",
        "colab": {}
      },
      "source": [
        "# Не трожь, оно тебя сожрет!\n",
        "!pip install catboost"
      ],
      "execution_count": 0,
      "outputs": []
    },
    {
      "cell_type": "code",
      "metadata": {
        "id": "w7XbOS88UpWC",
        "colab_type": "code",
        "colab": {}
      },
      "source": [
        "import numpy as np\n",
        "import pandas as pd\n",
        "import matplotlib.pyplot as plt\n",
        "import seaborn as sns\n",
        "sns.set()\n",
        "\n",
        "from preprocessing import preprocess_customer, preprocess_reactions\n",
        "from answering import submit, choose_from_proba"
      ],
      "execution_count": 0,
      "outputs": []
    },
    {
      "cell_type": "code",
      "metadata": {
        "id": "MkmsnxjXU9Qf",
        "colab_type": "code",
        "colab": {}
      },
      "source": [
        "path = '/content/'\n",
        "\n",
        "cust = pd.read_csv(path + 'customer_test.csv')\n",
        "transactions = pd.read_csv(path + 'transactions.csv')\n",
        "react_train = pd.read_csv(path + 'stories_reaction_train.csv')\n",
        "react_test = pd.read_csv(path + 'stories_reaction_test.csv')\n",
        "descr = pd.read_csv(path + 'stories_description.csv')\n",
        "sample = pd.read_csv(path + 'sample_submit.csv')"
      ],
      "execution_count": 0,
      "outputs": []
    },
    {
      "cell_type": "code",
      "metadata": {
        "id": "FC82LMd6Vki4",
        "colab_type": "code",
        "outputId": "bd29502d-7762-4653-eb2c-a38d90701468",
        "colab": {
          "base_uri": "https://localhost:8080/",
          "height": 34
        }
      },
      "source": [
        "new_cust = preprocess_customer(cust, transactions, react_train, encodings=['mean', 'frequency', 'std'])\n",
        "train, test = preprocess_reactions(react_train, react_test, encodings = ['mean', 'frequency', 'std'])\n",
        "\n",
        "train = train.join(new_cust.set_index('customer_id'), on = 'customer_id')\n",
        "test = test.join(new_cust.set_index('customer_id'), on = 'customer_id')"
      ],
      "execution_count": 0,
      "outputs": [
        {
          "output_type": "stream",
          "text": [
            "like, view, skip, dislike =  [1 3 2 0]\n"
          ],
          "name": "stdout"
        }
      ]
    },
    {
      "cell_type": "code",
      "metadata": {
        "id": "oHYuQslKc0MD",
        "colab_type": "code",
        "colab": {}
      },
      "source": [
        "from sklearn.model_selection import train_test_split\n",
        "\n",
        "y = train['event']\n",
        "train.drop('event', axis=1, inplace=True)\n",
        "\n",
        "X_train, X_val, y_train, y_val = train_test_split(train, y)"
      ],
      "execution_count": 0,
      "outputs": []
    },
    {
      "cell_type": "code",
      "metadata": {
        "id": "ybeTOFC5CNQW",
        "colab_type": "code",
        "colab": {}
      },
      "source": [
        "import catboost\n",
        "\n",
        "train_pool = catboost.Pool(data=X_train.values, label=y_train.values)\n",
        "val_pool = catboost.Pool(data=X_val.values, label=y_val.values)"
      ],
      "execution_count": 0,
      "outputs": []
    },
    {
      "cell_type": "code",
      "metadata": {
        "id": "IkzgWKSB1RbY",
        "colab_type": "code",
        "colab": {}
      },
      "source": [
        "model = catboost.CatBoostClassifier(\n",
        "    loss_function='MultiClass',\n",
        "    task_type='GPU',\n",
        "    custom_loss=['Accuracy']\n",
        ")\n",
        "\n",
        "model.fit(train_pool, plot=True)"
      ],
      "execution_count": 0,
      "outputs": []
    },
    {
      "cell_type": "code",
      "metadata": {
        "id": "RC_ot97D2keL",
        "colab_type": "code",
        "outputId": "d44f5aff-536a-4f29-faaa-55a96a9674f2",
        "colab": {
          "base_uri": "https://localhost:8080/",
          "height": 34
        }
      },
      "source": [
        "y_val_pred = model.predict(X_val)\n",
        "accuracy_score(y_val, y_val_pred)"
      ],
      "execution_count": 99,
      "outputs": [
        {
          "output_type": "execute_result",
          "data": {
            "text/plain": [
              "0.7095514262042846"
            ]
          },
          "metadata": {
            "tags": []
          },
          "execution_count": 99
        }
      ]
    },
    {
      "cell_type": "code",
      "metadata": {
        "id": "375R9JIuPvqf",
        "colab_type": "code",
        "colab": {}
      },
      "source": [
        "pred = choose_from_proba(model, test)\n",
        "submit(pred, sample, 'somename.csv')"
      ],
      "execution_count": 0,
      "outputs": []
    }
  ]
}