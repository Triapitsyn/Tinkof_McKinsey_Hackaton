{
 "cells": [
  {
   "cell_type": "code",
   "execution_count": 1,
   "metadata": {},
   "outputs": [],
   "source": [
    "import pandas as pd"
   ]
  },
  {
   "cell_type": "code",
   "execution_count": 2,
   "metadata": {},
   "outputs": [],
   "source": [
    "submit = pd.read_csv('../submissions/new.csv')"
   ]
  },
  {
   "cell_type": "code",
   "execution_count": 3,
   "metadata": {},
   "outputs": [
    {
     "data": {
      "text/html": [
       "<div>\n",
       "<style scoped>\n",
       "    .dataframe tbody tr th:only-of-type {\n",
       "        vertical-align: middle;\n",
       "    }\n",
       "\n",
       "    .dataframe tbody tr th {\n",
       "        vertical-align: top;\n",
       "    }\n",
       "\n",
       "    .dataframe thead th {\n",
       "        text-align: right;\n",
       "    }\n",
       "</style>\n",
       "<table border=\"1\" class=\"dataframe\">\n",
       "  <thead>\n",
       "    <tr style=\"text-align: right;\">\n",
       "      <th></th>\n",
       "      <th>answer_id</th>\n",
       "      <th>score</th>\n",
       "    </tr>\n",
       "  </thead>\n",
       "  <tbody>\n",
       "    <tr>\n",
       "      <th>0</th>\n",
       "      <td>0</td>\n",
       "      <td>1</td>\n",
       "    </tr>\n",
       "    <tr>\n",
       "      <th>1</th>\n",
       "      <td>1</td>\n",
       "      <td>1</td>\n",
       "    </tr>\n",
       "    <tr>\n",
       "      <th>2</th>\n",
       "      <td>2</td>\n",
       "      <td>1</td>\n",
       "    </tr>\n",
       "    <tr>\n",
       "      <th>3</th>\n",
       "      <td>3</td>\n",
       "      <td>1</td>\n",
       "    </tr>\n",
       "    <tr>\n",
       "      <th>4</th>\n",
       "      <td>4</td>\n",
       "      <td>0</td>\n",
       "    </tr>\n",
       "  </tbody>\n",
       "</table>\n",
       "</div>"
      ],
      "text/plain": [
       "   answer_id  score\n",
       "0          0      1\n",
       "1          1      1\n",
       "2          2      1\n",
       "3          3      1\n",
       "4          4      0"
      ]
     },
     "execution_count": 3,
     "metadata": {},
     "output_type": "execute_result"
    }
   ],
   "source": [
    "submit.head()"
   ]
  },
  {
   "cell_type": "code",
   "execution_count": 4,
   "metadata": {},
   "outputs": [
    {
     "data": {
      "text/plain": [
       "(172049, 2)"
      ]
     },
     "execution_count": 4,
     "metadata": {},
     "output_type": "execute_result"
    }
   ],
   "source": [
    "submit.shape"
   ]
  },
  {
   "cell_type": "code",
   "execution_count": 5,
   "metadata": {},
   "outputs": [],
   "source": [
    "sample = pd.read_csv('~/data/tinkoff/sample_submit.csv')"
   ]
  },
  {
   "cell_type": "code",
   "execution_count": 7,
   "metadata": {},
   "outputs": [
    {
     "data": {
      "text/html": [
       "<div>\n",
       "<style scoped>\n",
       "    .dataframe tbody tr th:only-of-type {\n",
       "        vertical-align: middle;\n",
       "    }\n",
       "\n",
       "    .dataframe tbody tr th {\n",
       "        vertical-align: top;\n",
       "    }\n",
       "\n",
       "    .dataframe thead th {\n",
       "        text-align: right;\n",
       "    }\n",
       "</style>\n",
       "<table border=\"1\" class=\"dataframe\">\n",
       "  <thead>\n",
       "    <tr style=\"text-align: right;\">\n",
       "      <th></th>\n",
       "      <th>answer_id</th>\n",
       "      <th>score</th>\n",
       "    </tr>\n",
       "  </thead>\n",
       "  <tbody>\n",
       "    <tr>\n",
       "      <th>0</th>\n",
       "      <td>0</td>\n",
       "      <td>0.85</td>\n",
       "    </tr>\n",
       "    <tr>\n",
       "      <th>1</th>\n",
       "      <td>1</td>\n",
       "      <td>0.53</td>\n",
       "    </tr>\n",
       "    <tr>\n",
       "      <th>2</th>\n",
       "      <td>2</td>\n",
       "      <td>-0.89</td>\n",
       "    </tr>\n",
       "    <tr>\n",
       "      <th>3</th>\n",
       "      <td>3</td>\n",
       "      <td>0.54</td>\n",
       "    </tr>\n",
       "    <tr>\n",
       "      <th>4</th>\n",
       "      <td>4</td>\n",
       "      <td>0.34</td>\n",
       "    </tr>\n",
       "  </tbody>\n",
       "</table>\n",
       "</div>"
      ],
      "text/plain": [
       "   answer_id  score\n",
       "0          0   0.85\n",
       "1          1   0.53\n",
       "2          2  -0.89\n",
       "3          3   0.54\n",
       "4          4   0.34"
      ]
     },
     "execution_count": 7,
     "metadata": {},
     "output_type": "execute_result"
    }
   ],
   "source": [
    "sample.head()"
   ]
  },
  {
   "cell_type": "code",
   "execution_count": null,
   "metadata": {},
   "outputs": [],
   "source": [
    "joint = pd.concat([react['customer_id'], event_encoded], axis=1)\n",
    "            cust = cust.join(joint.groupby('customer_id').mean(), on='customer_id', rsuffix='_mean')\n",
    "            for col in columns_to_encode:\n",
    "                cust = cust.join(cust[[col, 'like', 'dislike',\n",
    "                                       'skip', 'view']].groupby(col).mean(), on=col, rsuffix=f'_{col}_mean')"
   ]
  },
  {
   "cell_type": "code",
   "execution_count": 1,
   "metadata": {},
   "outputs": [],
   "source": [
    "import pandas as pd\n",
    "path = '~/data/tinkoff/'\n",
    "\n",
    "cust = pd.read_csv(path + 'customer_test.csv')\n",
    "transactions = pd.read_csv(path + 'transactions.csv')\n",
    "react_train = pd.read_csv(path + 'stories_reaction_train.csv')\n",
    "react_test = pd.read_csv(path + 'stories_reaction_test.csv')\n",
    "descr = pd.read_csv(path + 'stories_description.csv')\n",
    "sample = pd.read_csv(path + 'sample_submit.csv')"
   ]
  },
  {
   "cell_type": "code",
   "execution_count": 2,
   "metadata": {},
   "outputs": [],
   "source": [
    "import sys\n",
    "sys.path.insert(1, '../scripts/')\n",
    "from preprocessing import preprocess_customer"
   ]
  },
  {
   "cell_type": "code",
   "execution_count": 4,
   "metadata": {},
   "outputs": [],
   "source": [
    "new_cust = preprocess_customer(cust, react_train, encodings = ['one-hot', 'frequency', 'mean'])"
   ]
  },
  {
   "cell_type": "code",
   "execution_count": 6,
   "metadata": {},
   "outputs": [
    {
     "data": {
      "text/plain": [
       "count    54245.000000\n",
       "mean         0.000103\n",
       "std          0.006271\n",
       "min          0.000000\n",
       "25%          0.000000\n",
       "50%          0.000000\n",
       "75%          0.000000\n",
       "max          0.449645\n",
       "Name: skip_to_mean_age, dtype: float64"
      ]
     },
     "execution_count": 6,
     "metadata": {},
     "output_type": "execute_result"
    }
   ],
   "source": [
    "new_cust['skip_to_mean_age'].describe()"
   ]
  },
  {
   "cell_type": "code",
   "execution_count": 14,
   "metadata": {},
   "outputs": [
    {
     "data": {
      "text/plain": [
       "customer_id                              False\n",
       "product_0                                False\n",
       "product_1                                False\n",
       "product_2                                False\n",
       "product_3                                False\n",
       "product_4                                False\n",
       "product_5                                False\n",
       "product_6                                False\n",
       "gender_cd                                False\n",
       "age                                      False\n",
       "marital_status_cd                        False\n",
       "children_cnt                             False\n",
       "job_position_cd                          False\n",
       "job_title                                False\n",
       "first_session_dttm_nan                   False\n",
       "first_session_year                       False\n",
       "first_session_month                      False\n",
       "first_session_day                        False\n",
       "first_session_hour                       False\n",
       "age_less_than_17                         False\n",
       "age_17_25                                False\n",
       "age_26_40                                False\n",
       "age_more_than_40                         False\n",
       "age_nan                                  False\n",
       "product_0_one_hot_0                      False\n",
       "product_0_one_hot_1                      False\n",
       "product_0_one_hot_2                      False\n",
       "product_1_one_hot_0                      False\n",
       "product_1_one_hot_1                      False\n",
       "product_1_one_hot_2                      False\n",
       "                                         ...  \n",
       "job_title_one_hot_94                     False\n",
       "job_title_one_hot_317                    False\n",
       "job_title_one_hot_579                    False\n",
       "job_title_one_hot_781                    False\n",
       "job_title_one_hot_1065                   False\n",
       "job_title_one_hot_1642                   False\n",
       "job_title_one_hot_2520                   False\n",
       "job_title_one_hot_2689                   False\n",
       "job_title_one_hot_3407                   False\n",
       "job_title_one_hot_3739                   False\n",
       "job_title_one_hot_4545                   False\n",
       "job_title_one_hot_4840                   False\n",
       "job_title_one_hot_4841                   False\n",
       "job_title_one_hot_4903                   False\n",
       "product_0_frequency_encoded              False\n",
       "product_1_frequency_encoded              False\n",
       "product_2_frequency_encoded              False\n",
       "product_3_frequency_encoded              False\n",
       "product_4_frequency_encoded              False\n",
       "product_5_frequency_encoded              False\n",
       "product_6_frequency_encoded              False\n",
       "marital_status_cd_frequency_encoded      False\n",
       "job_title_frequency_encoded              False\n",
       "first_session_year_frequency_encoded     False\n",
       "first_session_month_frequency_encoded    False\n",
       "first_session_day_frequency_encoded      False\n",
       "first_session_hour_frequency_encoded     False\n",
       "age_frequency_encoded                    False\n",
       "children_cnt_frequency_encoded           False\n",
       "job_position_cd_frequency_encoded        False\n",
       "Length: 89, dtype: bool"
      ]
     },
     "execution_count": 14,
     "metadata": {},
     "output_type": "execute_result"
    }
   ],
   "source": [
    "new_cust.isna().any()"
   ]
  },
  {
   "cell_type": "code",
   "execution_count": 8,
   "metadata": {},
   "outputs": [
    {
     "name": "stdout",
     "output_type": "stream",
     "text": [
      "customer_id\n",
      "product_0\n",
      "product_1\n",
      "product_2\n",
      "product_3\n",
      "product_4\n",
      "product_5\n",
      "product_6\n",
      "gender_cd\n",
      "age\n",
      "marital_status_cd\n",
      "children_cnt\n",
      "job_position_cd\n",
      "job_title\n",
      "first_session_dttm_nan\n",
      "first_session_year\n",
      "first_session_month\n",
      "first_session_day\n",
      "first_session_hour\n",
      "age_less_than_17\n",
      "age_17_25\n",
      "age_26_40\n",
      "age_more_than_40\n",
      "age_nan\n",
      "product_0_one_hot_0\n",
      "product_0_one_hot_1\n",
      "product_0_one_hot_2\n",
      "product_1_one_hot_0\n",
      "product_1_one_hot_1\n",
      "product_1_one_hot_2\n",
      "product_1_one_hot_3\n",
      "product_2_one_hot_0\n",
      "product_2_one_hot_1\n",
      "product_2_one_hot_2\n",
      "product_2_one_hot_3\n",
      "product_3_one_hot_0\n",
      "product_3_one_hot_1\n",
      "product_3_one_hot_2\n",
      "product_4_one_hot_0\n",
      "product_4_one_hot_1\n",
      "product_4_one_hot_2\n",
      "product_4_one_hot_3\n",
      "product_5_one_hot_0\n",
      "product_5_one_hot_1\n",
      "product_5_one_hot_2\n",
      "product_5_one_hot_3\n",
      "product_6_one_hot_0\n",
      "product_6_one_hot_1\n",
      "product_6_one_hot_2\n",
      "product_6_one_hot_3\n",
      "marital_status_cd_one_hot_0\n",
      "marital_status_cd_one_hot_1\n",
      "marital_status_cd_one_hot_2\n",
      "marital_status_cd_one_hot_3\n",
      "marital_status_cd_one_hot_4\n",
      "marital_status_cd_one_hot_5\n",
      "marital_status_cd_one_hot_6\n",
      "job_title_one_hot_-1\n",
      "job_title_one_hot_29\n",
      "job_title_one_hot_94\n",
      "job_title_one_hot_317\n",
      "job_title_one_hot_579\n",
      "job_title_one_hot_781\n",
      "job_title_one_hot_1065\n",
      "job_title_one_hot_1642\n",
      "job_title_one_hot_2520\n",
      "job_title_one_hot_2689\n",
      "job_title_one_hot_3407\n",
      "job_title_one_hot_3739\n",
      "job_title_one_hot_4545\n",
      "job_title_one_hot_4840\n",
      "job_title_one_hot_4841\n",
      "job_title_one_hot_4903\n",
      "product_0_frequency_encoded\n",
      "product_1_frequency_encoded\n",
      "product_2_frequency_encoded\n",
      "product_3_frequency_encoded\n",
      "product_4_frequency_encoded\n",
      "product_5_frequency_encoded\n",
      "product_6_frequency_encoded\n",
      "marital_status_cd_frequency_encoded\n",
      "job_title_frequency_encoded\n",
      "first_session_year_frequency_encoded\n",
      "first_session_month_frequency_encoded\n",
      "first_session_day_frequency_encoded\n",
      "first_session_hour_frequency_encoded\n",
      "age_frequency_encoded\n",
      "children_cnt_frequency_encoded\n",
      "job_position_cd_frequency_encoded\n",
      "dislike_to_mean_product_0\n",
      "like_to_mean_product_0\n",
      "skip_to_mean_product_0\n",
      "view_to_mean_product_0\n",
      "dislike_to_mean_product_1\n",
      "like_to_mean_product_1\n",
      "skip_to_mean_product_1\n",
      "view_to_mean_product_1\n",
      "dislike_to_mean_product_2\n",
      "like_to_mean_product_2\n",
      "skip_to_mean_product_2\n",
      "view_to_mean_product_2\n",
      "dislike_to_mean_product_3\n",
      "like_to_mean_product_3\n",
      "skip_to_mean_product_3\n",
      "view_to_mean_product_3\n",
      "dislike_to_mean_product_4\n",
      "like_to_mean_product_4\n",
      "skip_to_mean_product_4\n",
      "view_to_mean_product_4\n",
      "dislike_to_mean_product_5\n",
      "like_to_mean_product_5\n",
      "skip_to_mean_product_5\n",
      "view_to_mean_product_5\n",
      "dislike_to_mean_product_6\n",
      "like_to_mean_product_6\n",
      "skip_to_mean_product_6\n",
      "view_to_mean_product_6\n",
      "dislike_to_mean_marital_status_cd\n",
      "like_to_mean_marital_status_cd\n",
      "skip_to_mean_marital_status_cd\n",
      "view_to_mean_marital_status_cd\n",
      "dislike_to_mean_job_title\n",
      "like_to_mean_job_title\n",
      "skip_to_mean_job_title\n",
      "view_to_mean_job_title\n",
      "dislike_to_mean_first_session_year\n",
      "like_to_mean_first_session_year\n",
      "skip_to_mean_first_session_year\n",
      "view_to_mean_first_session_year\n",
      "dislike_to_mean_first_session_month\n",
      "like_to_mean_first_session_month\n",
      "skip_to_mean_first_session_month\n",
      "view_to_mean_first_session_month\n",
      "dislike_to_mean_first_session_day\n",
      "like_to_mean_first_session_day\n",
      "skip_to_mean_first_session_day\n",
      "view_to_mean_first_session_day\n",
      "dislike_to_mean_first_session_hour\n",
      "like_to_mean_first_session_hour\n",
      "skip_to_mean_first_session_hour\n",
      "view_to_mean_first_session_hour\n",
      "dislike_to_mean_age\n",
      "like_to_mean_age\n",
      "skip_to_mean_age\n",
      "view_to_mean_age\n",
      "dislike_to_mean_children_cnt\n",
      "like_to_mean_children_cnt\n",
      "skip_to_mean_children_cnt\n",
      "view_to_mean_children_cnt\n",
      "dislike_to_mean_job_position_cd\n",
      "like_to_mean_job_position_cd\n",
      "skip_to_mean_job_position_cd\n",
      "view_to_mean_job_position_cd\n"
     ]
    }
   ],
   "source": [
    "for col in new_cust.columns:\n",
    "    print(col)"
   ]
  }
 ],
 "metadata": {
  "kernelspec": {
   "display_name": "Python 3",
   "language": "python",
   "name": "python3"
  },
  "language_info": {
   "codemirror_mode": {
    "name": "ipython",
    "version": 3
   },
   "file_extension": ".py",
   "mimetype": "text/x-python",
   "name": "python",
   "nbconvert_exporter": "python",
   "pygments_lexer": "ipython3",
   "version": "3.7.3"
  }
 },
 "nbformat": 4,
 "nbformat_minor": 2
}
