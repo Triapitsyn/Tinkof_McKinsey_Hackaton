{
 "cells": [
  {
   "cell_type": "code",
   "execution_count": 1,
   "metadata": {},
   "outputs": [],
   "source": [
    "import numpy as np\n",
    "import pandas as pd\n",
    "import matplotlib.pyplot as plt\n",
    "import seaborn as sns\n",
    "sns.set()"
   ]
  },
  {
   "cell_type": "code",
   "execution_count": 5,
   "metadata": {},
   "outputs": [],
   "source": [
    "path = '~/data/tinkoff/'\n",
    "\n",
    "cust = pd.read_csv(path + 'customer_test.csv')\n",
    "transactions = pd.read_csv(path + 'transactions.csv')\n",
    "react_train = pd.read_csv(path + 'stories_reaction_train.csv')\n",
    "react_test = pd.read_csv(path + 'stories_reaction_test.csv')\n",
    "descr = pd.read_csv(path + 'stories_description.csv')\n",
    "sample = pd.read_csv(path + 'sample_submit.csv')"
   ]
  },
  {
   "cell_type": "code",
   "execution_count": 6,
   "metadata": {},
   "outputs": [
    {
     "name": "stdout",
     "output_type": "stream",
     "text": [
      "Признаков = 69\n"
     ]
    },
    {
     "name": "stderr",
     "output_type": "stream",
     "text": [
      "/home/data_sapiens/Anaconda/lib/python3.7/site-packages/ipykernel_launcher.py:34: SettingWithCopyWarning: \n",
      "A value is trying to be set on a copy of a slice from a DataFrame\n",
      "\n",
      "See the caveats in the documentation: http://pandas.pydata.org/pandas-docs/stable/indexing.html#indexing-view-versus-copy\n"
     ]
    },
    {
     "data": {
      "text/html": [
       "<div>\n",
       "<style scoped>\n",
       "    .dataframe tbody tr th:only-of-type {\n",
       "        vertical-align: middle;\n",
       "    }\n",
       "\n",
       "    .dataframe tbody tr th {\n",
       "        vertical-align: top;\n",
       "    }\n",
       "\n",
       "    .dataframe thead th {\n",
       "        text-align: right;\n",
       "    }\n",
       "</style>\n",
       "<table border=\"1\" class=\"dataframe\">\n",
       "  <thead>\n",
       "    <tr style=\"text-align: right;\">\n",
       "      <th></th>\n",
       "      <th>gender_cd</th>\n",
       "      <th>age</th>\n",
       "      <th>children_cnt</th>\n",
       "      <th>product_0_UTL</th>\n",
       "      <th>product_0_CLS</th>\n",
       "      <th>product_0_OPN</th>\n",
       "      <th>product_0_nan</th>\n",
       "      <th>product_1_UTL</th>\n",
       "      <th>product_1_CLS</th>\n",
       "      <th>product_1_OPN</th>\n",
       "      <th>...</th>\n",
       "      <th>first_session_13.0</th>\n",
       "      <th>first_session_nan</th>\n",
       "      <th>first_session_14.0</th>\n",
       "      <th>marital_status_nan</th>\n",
       "      <th>marital_status_UNM</th>\n",
       "      <th>marital_status_CIV</th>\n",
       "      <th>marital_status_MAR</th>\n",
       "      <th>marital_status_DIV</th>\n",
       "      <th>marital_status_WID</th>\n",
       "      <th>marital_status_DLW</th>\n",
       "    </tr>\n",
       "    <tr>\n",
       "      <th>customer_id</th>\n",
       "      <th></th>\n",
       "      <th></th>\n",
       "      <th></th>\n",
       "      <th></th>\n",
       "      <th></th>\n",
       "      <th></th>\n",
       "      <th></th>\n",
       "      <th></th>\n",
       "      <th></th>\n",
       "      <th></th>\n",
       "      <th></th>\n",
       "      <th></th>\n",
       "      <th></th>\n",
       "      <th></th>\n",
       "      <th></th>\n",
       "      <th></th>\n",
       "      <th></th>\n",
       "      <th></th>\n",
       "      <th></th>\n",
       "      <th></th>\n",
       "      <th></th>\n",
       "    </tr>\n",
       "  </thead>\n",
       "  <tbody>\n",
       "    <tr>\n",
       "      <th>234305</th>\n",
       "      <td>0</td>\n",
       "      <td>25.0</td>\n",
       "      <td>0.0</td>\n",
       "      <td>0</td>\n",
       "      <td>0</td>\n",
       "      <td>0</td>\n",
       "      <td>1</td>\n",
       "      <td>0</td>\n",
       "      <td>0</td>\n",
       "      <td>0</td>\n",
       "      <td>...</td>\n",
       "      <td>0</td>\n",
       "      <td>0</td>\n",
       "      <td>0</td>\n",
       "      <td>1</td>\n",
       "      <td>0</td>\n",
       "      <td>0</td>\n",
       "      <td>0</td>\n",
       "      <td>0</td>\n",
       "      <td>0</td>\n",
       "      <td>0</td>\n",
       "    </tr>\n",
       "    <tr>\n",
       "      <th>914339</th>\n",
       "      <td>1</td>\n",
       "      <td>15.0</td>\n",
       "      <td>0.0</td>\n",
       "      <td>0</td>\n",
       "      <td>0</td>\n",
       "      <td>0</td>\n",
       "      <td>1</td>\n",
       "      <td>0</td>\n",
       "      <td>0</td>\n",
       "      <td>0</td>\n",
       "      <td>...</td>\n",
       "      <td>0</td>\n",
       "      <td>0</td>\n",
       "      <td>0</td>\n",
       "      <td>1</td>\n",
       "      <td>0</td>\n",
       "      <td>0</td>\n",
       "      <td>0</td>\n",
       "      <td>0</td>\n",
       "      <td>0</td>\n",
       "      <td>0</td>\n",
       "    </tr>\n",
       "    <tr>\n",
       "      <th>895631</th>\n",
       "      <td>1</td>\n",
       "      <td>20.0</td>\n",
       "      <td>0.0</td>\n",
       "      <td>0</td>\n",
       "      <td>0</td>\n",
       "      <td>0</td>\n",
       "      <td>1</td>\n",
       "      <td>0</td>\n",
       "      <td>0</td>\n",
       "      <td>0</td>\n",
       "      <td>...</td>\n",
       "      <td>0</td>\n",
       "      <td>0</td>\n",
       "      <td>0</td>\n",
       "      <td>1</td>\n",
       "      <td>0</td>\n",
       "      <td>0</td>\n",
       "      <td>0</td>\n",
       "      <td>0</td>\n",
       "      <td>0</td>\n",
       "      <td>0</td>\n",
       "    </tr>\n",
       "    <tr>\n",
       "      <th>954837</th>\n",
       "      <td>0</td>\n",
       "      <td>25.0</td>\n",
       "      <td>0.0</td>\n",
       "      <td>0</td>\n",
       "      <td>0</td>\n",
       "      <td>0</td>\n",
       "      <td>1</td>\n",
       "      <td>0</td>\n",
       "      <td>0</td>\n",
       "      <td>0</td>\n",
       "      <td>...</td>\n",
       "      <td>0</td>\n",
       "      <td>0</td>\n",
       "      <td>0</td>\n",
       "      <td>1</td>\n",
       "      <td>0</td>\n",
       "      <td>0</td>\n",
       "      <td>0</td>\n",
       "      <td>0</td>\n",
       "      <td>0</td>\n",
       "      <td>0</td>\n",
       "    </tr>\n",
       "    <tr>\n",
       "      <th>391590</th>\n",
       "      <td>1</td>\n",
       "      <td>30.0</td>\n",
       "      <td>0.0</td>\n",
       "      <td>0</td>\n",
       "      <td>0</td>\n",
       "      <td>0</td>\n",
       "      <td>1</td>\n",
       "      <td>1</td>\n",
       "      <td>0</td>\n",
       "      <td>0</td>\n",
       "      <td>...</td>\n",
       "      <td>0</td>\n",
       "      <td>0</td>\n",
       "      <td>0</td>\n",
       "      <td>0</td>\n",
       "      <td>1</td>\n",
       "      <td>0</td>\n",
       "      <td>0</td>\n",
       "      <td>0</td>\n",
       "      <td>0</td>\n",
       "      <td>0</td>\n",
       "    </tr>\n",
       "    <tr>\n",
       "      <th>385518</th>\n",
       "      <td>1</td>\n",
       "      <td>30.0</td>\n",
       "      <td>0.0</td>\n",
       "      <td>0</td>\n",
       "      <td>0</td>\n",
       "      <td>0</td>\n",
       "      <td>1</td>\n",
       "      <td>0</td>\n",
       "      <td>0</td>\n",
       "      <td>0</td>\n",
       "      <td>...</td>\n",
       "      <td>0</td>\n",
       "      <td>0</td>\n",
       "      <td>0</td>\n",
       "      <td>1</td>\n",
       "      <td>0</td>\n",
       "      <td>0</td>\n",
       "      <td>0</td>\n",
       "      <td>0</td>\n",
       "      <td>0</td>\n",
       "      <td>0</td>\n",
       "    </tr>\n",
       "  </tbody>\n",
       "</table>\n",
       "<p>6 rows × 69 columns</p>\n",
       "</div>"
      ],
      "text/plain": [
       "             gender_cd   age  children_cnt  product_0_UTL  product_0_CLS  \\\n",
       "customer_id                                                                \n",
       "234305               0  25.0           0.0              0              0   \n",
       "914339               1  15.0           0.0              0              0   \n",
       "895631               1  20.0           0.0              0              0   \n",
       "954837               0  25.0           0.0              0              0   \n",
       "391590               1  30.0           0.0              0              0   \n",
       "385518               1  30.0           0.0              0              0   \n",
       "\n",
       "             product_0_OPN  product_0_nan  product_1_UTL  product_1_CLS  \\\n",
       "customer_id                                                               \n",
       "234305                   0              1              0              0   \n",
       "914339                   0              1              0              0   \n",
       "895631                   0              1              0              0   \n",
       "954837                   0              1              0              0   \n",
       "391590                   0              1              1              0   \n",
       "385518                   0              1              0              0   \n",
       "\n",
       "             product_1_OPN  ...  first_session_13.0  first_session_nan  \\\n",
       "customer_id                 ...                                          \n",
       "234305                   0  ...                   0                  0   \n",
       "914339                   0  ...                   0                  0   \n",
       "895631                   0  ...                   0                  0   \n",
       "954837                   0  ...                   0                  0   \n",
       "391590                   0  ...                   0                  0   \n",
       "385518                   0  ...                   0                  0   \n",
       "\n",
       "             first_session_14.0  marital_status_nan  marital_status_UNM  \\\n",
       "customer_id                                                               \n",
       "234305                        0                   1                   0   \n",
       "914339                        0                   1                   0   \n",
       "895631                        0                   1                   0   \n",
       "954837                        0                   1                   0   \n",
       "391590                        0                   0                   1   \n",
       "385518                        0                   1                   0   \n",
       "\n",
       "             marital_status_CIV  marital_status_MAR  marital_status_DIV  \\\n",
       "customer_id                                                               \n",
       "234305                        0                   0                   0   \n",
       "914339                        0                   0                   0   \n",
       "895631                        0                   0                   0   \n",
       "954837                        0                   0                   0   \n",
       "391590                        0                   0                   0   \n",
       "385518                        0                   0                   0   \n",
       "\n",
       "             marital_status_WID  marital_status_DLW  \n",
       "customer_id                                          \n",
       "234305                        0                   0  \n",
       "914339                        0                   0  \n",
       "895631                        0                   0  \n",
       "954837                        0                   0  \n",
       "391590                        0                   0  \n",
       "385518                        0                   0  \n",
       "\n",
       "[6 rows x 69 columns]"
      ]
     },
     "execution_count": 6,
     "metadata": {},
     "output_type": "execute_result"
    }
   ],
   "source": [
    "def preparation(data):\n",
    "  data = data.set_index('customer_id')\n",
    "  \n",
    "  # OneHot for products\n",
    "  for i in range(7):\n",
    "    column = 'product_{}'.format(i)\n",
    "    for status in {'UTL', 'CLS', 'OPN'}:\n",
    "      data['{}_{}'.format(column, status)] = (data[column] == status).astype(int)\n",
    "    data['{}_{}'.format(column, 'nan')] = (data[column] != data[column]).astype(int)\n",
    "    data.drop(column, inplace=True, axis = 1)\n",
    "  \n",
    "  # Male = 1, Female = 0\n",
    "  data['gender_cd'] = (data['gender_cd'] == 'M').astype(int)\n",
    "  \n",
    "  # job_title lower\n",
    "  data['job_title'] = data['job_title'].str.lower()\n",
    "  \n",
    "  # n_most_common job_titles to OneHot\n",
    "  n_most_common = 13\n",
    "  data['job_nan_or_rare'] = (data['age'] == -1).astype(int)\n",
    "  for title, freq in zip(data['job_title'].value_counts()[:n_most_common + 1].index, range(n_most_common + 1)):\n",
    "    # print(title, freq)\n",
    "    data['{}_{}'.format('job', str(freq))] = (data['job_title'] == title).astype(int)\n",
    "    data['job_nan_or_rare'] = data['job_nan_or_rare'] + (data['job_title'] == title).astype(int)\n",
    "  data['job_nan_or_rare'] = (data['job_nan_or_rare'] == 0).astype(int)\n",
    "  data.drop('job_title', inplace=True, axis=1)\n",
    "  data.drop('job_position_cd', inplace=True, axis=1)\n",
    "  \n",
    "  # first_session to months since first member divided by coef to get OneHot.\n",
    "  coef = 6\n",
    "  data['first_session_dttm'] = data['first_session_dttm'].str.split('-').apply(lambda x: int(x[0]) * 12 + int(x[1]) if x == x else 'nan')\n",
    "  notnan = data['first_session_dttm'] != 'nan'\n",
    "  first = data['first_session_dttm'][notnan].min()\n",
    "  data['first_session_dttm'][notnan] = data['first_session_dttm'][notnan].apply(lambda x: (x - first) // coef)\n",
    "  \n",
    "  # first_session to OneHot\n",
    "  for status in data['first_session_dttm'].unique():\n",
    "    if status != status:\n",
    "      data['first_session_nan'] = (data['first_session_dttm'] != data['first_session_dttm']).astype(int)\n",
    "    else:\n",
    "      data['first_session_{}'.format(status)] = (data['first_session_dttm'] == status).astype(int)\n",
    "  data.drop('first_session_dttm', inplace=True, axis=1)\n",
    "  \n",
    "  # marital_status to OneHot\n",
    "  for status in data['marital_status_cd'].unique():\n",
    "    if status != status:\n",
    "      data['marital_status_nan'] = (data['marital_status_cd'] != data['marital_status_cd']).astype(int)\n",
    "    else:\n",
    "      data['marital_status_{}'.format(status)] = (data['marital_status_cd'] == status).astype(int)\n",
    "  data.drop('marital_status_cd', inplace=True, axis=1)\n",
    "  return data\n",
    "\n",
    "new_data = preparation(cust)\n",
    "print('Признаков =', len(new_data.columns))\n",
    "new_data.head(6)"
   ]
  },
  {
   "cell_type": "code",
   "execution_count": 53,
   "metadata": {},
   "outputs": [
    {
     "data": {
      "text/plain": [
       "(473141, 70)"
      ]
     },
     "execution_count": 53,
     "metadata": {},
     "output_type": "execute_result"
    }
   ],
   "source": [
    "train.shape"
   ]
  },
  {
   "cell_type": "code",
   "execution_count": 142,
   "metadata": {},
   "outputs": [],
   "source": [
    "train = react_train.join(new_data, on = 'customer_id')\n",
    "test = react_test.join(new_data, on = 'customer_id')"
   ]
  },
  {
   "cell_type": "code",
   "execution_count": 143,
   "metadata": {},
   "outputs": [
    {
     "data": {
      "text/plain": [
       "0    0\n",
       "1    1\n",
       "2    2\n",
       "3    3\n",
       "4    4\n",
       "Name: answer_id, dtype: int64"
      ]
     },
     "execution_count": 143,
     "metadata": {},
     "output_type": "execute_result"
    }
   ],
   "source": [
    "test['answer_id'].head()"
   ]
  },
  {
   "cell_type": "code",
   "execution_count": 144,
   "metadata": {},
   "outputs": [],
   "source": [
    "train.drop('event_dttm', axis = 1, inplace = True)\n",
    "test.drop('event_dttm', axis=1, inplace=True)"
   ]
  },
  {
   "cell_type": "code",
   "execution_count": 13,
   "metadata": {},
   "outputs": [],
   "source": [
    "from sklearn.preprocessing import LabelEncoder"
   ]
  },
  {
   "cell_type": "code",
   "execution_count": 145,
   "metadata": {},
   "outputs": [],
   "source": [
    "train.drop('customer_id', axis = 1, inplace = True)\n",
    "test.drop('customer_id', axis=1, inplace=True)"
   ]
  },
  {
   "cell_type": "code",
   "execution_count": 102,
   "metadata": {},
   "outputs": [],
   "source": [
    "y = LabelEncoder().fit_transform(train2['event'])"
   ]
  },
  {
   "cell_type": "code",
   "execution_count": 21,
   "metadata": {},
   "outputs": [],
   "source": [
    "from tensorflow.keras.models import Sequential\n",
    "from tensorflow.keras.layers import Dense, InputLayer"
   ]
  },
  {
   "cell_type": "code",
   "execution_count": 101,
   "metadata": {},
   "outputs": [],
   "source": [
    "model = Sequential()\n",
    "model.add(InputLayer(69))\n",
    "model.add(Dense(32, activation='relu'))\n",
    "model.add(Dense(16, activation='relu'))\n",
    "model.add(Dense(4, activation='softmax'))\n",
    "\n",
    "model.compile(optimizer='sgd', loss = 'categorical_crossentropy', metrics = ['accuracy'])"
   ]
  },
  {
   "cell_type": "code",
   "execution_count": 103,
   "metadata": {},
   "outputs": [],
   "source": [
    "from tensorflow.keras.utils import to_categorical\n",
    "y = to_categorical(y)"
   ]
  },
  {
   "cell_type": "code",
   "execution_count": 104,
   "metadata": {},
   "outputs": [
    {
     "name": "stdout",
     "output_type": "stream",
     "text": [
      "Train on 982166 samples, validate on 982167 samples\n",
      "Epoch 1/2\n",
      "982166/982166 [==============================] - 285s 291us/sample - loss: 0.6929 - acc: 0.5267 - val_loss: 9.8163 - val_acc: 0.0043\n",
      "Epoch 2/2\n",
      "982166/982166 [==============================] - 227s 231us/sample - loss: 0.6891 - acc: 0.5364 - val_loss: 10.2998 - val_acc: 0.0047\n"
     ]
    },
    {
     "data": {
      "text/plain": [
       "<tensorflow.python.keras.callbacks.History at 0x7ff030b17dd8>"
      ]
     },
     "execution_count": 104,
     "metadata": {},
     "output_type": "execute_result"
    }
   ],
   "source": [
    "model.fit(train2.drop('event', axis = 1), y, validation_split=0.5, epochs=2)"
   ]
  },
  {
   "cell_type": "code",
   "execution_count": 148,
   "metadata": {},
   "outputs": [],
   "source": [
    "train['age'].fillna(train['age'].median(), inplace=True)\n",
    "train['children_cnt'].fillna(train['children_cnt'].median(), inplace=True)\n",
    "test['age'].fillna(train['age'].median(), inplace=True)\n",
    "test['children_cnt'].fillna(train['children_cnt'].median(), inplace=True)\n",
    "# test.isna().any()"
   ]
  },
  {
   "cell_type": "code",
   "execution_count": 65,
   "metadata": {},
   "outputs": [],
   "source": [
    "ar = model.predict(test.values)"
   ]
  },
  {
   "cell_type": "code",
   "execution_count": 72,
   "metadata": {},
   "outputs": [
    {
     "data": {
      "text/plain": [
       "array([[0.39186677, 0.1914524 , 0.21574314, 0.20093773],\n",
       "       [0.39186677, 0.1914524 , 0.21574314, 0.20093773],\n",
       "       [0.39186677, 0.1914524 , 0.21574314, 0.20093773],\n",
       "       [0.39186677, 0.1914524 , 0.21574314, 0.20093773],\n",
       "       [0.39186677, 0.1914524 , 0.21574314, 0.20093773],\n",
       "       [0.38253787, 0.19601493, 0.22589213, 0.19555509],\n",
       "       [0.38253787, 0.19601493, 0.22589213, 0.19555509],\n",
       "       [0.38253787, 0.19601493, 0.22589213, 0.19555509],\n",
       "       [0.38253787, 0.19601493, 0.22589213, 0.19555509],\n",
       "       [0.38253787, 0.19601493, 0.22589213, 0.19555509],\n",
       "       [0.38253787, 0.19601493, 0.22589213, 0.19555509],\n",
       "       [0.38253787, 0.19601493, 0.22589213, 0.19555509],\n",
       "       [0.38253787, 0.19601493, 0.22589213, 0.19555509],\n",
       "       [0.38253787, 0.19601493, 0.22589213, 0.19555509],\n",
       "       [0.38253784, 0.19601496, 0.22589216, 0.19555512],\n",
       "       [0.38253784, 0.19601496, 0.22589216, 0.19555512],\n",
       "       [0.38253787, 0.19601493, 0.22589213, 0.19555509],\n",
       "       [0.38253787, 0.19601493, 0.22589213, 0.19555509],\n",
       "       [0.38253784, 0.19601491, 0.22589211, 0.1955551 ],\n",
       "       [0.38253784, 0.19601491, 0.22589211, 0.1955551 ],\n",
       "       [0.38253787, 0.19601493, 0.22589213, 0.19555509],\n",
       "       [0.38253787, 0.19601493, 0.22589213, 0.19555509],\n",
       "       [0.38253787, 0.19601493, 0.22589213, 0.19555509],\n",
       "       [0.38253787, 0.19601493, 0.22589213, 0.19555509],\n",
       "       [0.38253787, 0.19601493, 0.22589213, 0.19555509],\n",
       "       [0.38253787, 0.19601493, 0.22589213, 0.19555509],\n",
       "       [0.38253787, 0.19601493, 0.22589213, 0.19555509],\n",
       "       [0.38253787, 0.19601493, 0.22589213, 0.19555509],\n",
       "       [0.38253784, 0.19601491, 0.22589211, 0.1955551 ],\n",
       "       [0.38253787, 0.19601493, 0.22589213, 0.19555509],\n",
       "       [0.38253787, 0.19601493, 0.22589213, 0.19555509],\n",
       "       [0.38253787, 0.19601493, 0.22589213, 0.19555509],\n",
       "       [0.38253784, 0.19601491, 0.22589211, 0.1955551 ],\n",
       "       [0.38253784, 0.19601491, 0.22589211, 0.1955551 ],\n",
       "       [0.38253787, 0.19601493, 0.22589213, 0.19555509],\n",
       "       [0.38253787, 0.19601493, 0.22589213, 0.19555509],\n",
       "       [0.38253787, 0.19601493, 0.22589213, 0.19555509],\n",
       "       [0.38253787, 0.19601493, 0.22589213, 0.19555509],\n",
       "       [0.38253787, 0.19601493, 0.22589213, 0.19555509],\n",
       "       [0.38253787, 0.19601493, 0.22589213, 0.19555509],\n",
       "       [0.38253784, 0.19601491, 0.22589211, 0.1955551 ],\n",
       "       [0.38253784, 0.19601491, 0.22589211, 0.1955551 ],\n",
       "       [0.38253787, 0.19601493, 0.22589213, 0.19555509],\n",
       "       [0.38253787, 0.19601493, 0.22589213, 0.19555509],\n",
       "       [0.38253787, 0.19601493, 0.22589213, 0.19555509],\n",
       "       [0.38253787, 0.19601493, 0.22589213, 0.19555509],\n",
       "       [0.39186677, 0.1914524 , 0.21574314, 0.20093773],\n",
       "       [0.39186677, 0.1914524 , 0.21574314, 0.20093773],\n",
       "       [0.38253787, 0.19601493, 0.22589213, 0.19555509],\n",
       "       [0.38253787, 0.19601493, 0.22589213, 0.19555509],\n",
       "       [0.38253784, 0.19601491, 0.22589211, 0.1955551 ],\n",
       "       [0.38253784, 0.19601491, 0.22589211, 0.1955551 ],\n",
       "       [0.38253787, 0.19601493, 0.22589213, 0.19555509],\n",
       "       [0.38253787, 0.19601493, 0.22589213, 0.19555509],\n",
       "       [0.38253787, 0.19601493, 0.22589213, 0.19555509],\n",
       "       [0.38253787, 0.19601493, 0.22589213, 0.19555509],\n",
       "       [0.38253787, 0.19601493, 0.22589213, 0.19555509]], dtype=float32)"
      ]
     },
     "execution_count": 72,
     "metadata": {},
     "output_type": "execute_result"
    }
   ],
   "source": [
    "ar[ar[:, 0] > 0.3]"
   ]
  },
  {
   "cell_type": "code",
   "execution_count": 82,
   "metadata": {},
   "outputs": [
    {
     "data": {
      "text/plain": [
       "view       242312\n",
       "skip       167567\n",
       "like        56687\n",
       "dislike      6575\n",
       "Name: event, dtype: int64"
      ]
     },
     "execution_count": 82,
     "metadata": {},
     "output_type": "execute_result"
    }
   ],
   "source": [
    "train['event'].value_counts()"
   ]
  },
  {
   "cell_type": "code",
   "execution_count": 83,
   "metadata": {},
   "outputs": [
    {
     "data": {
      "text/plain": [
       "25.485475285171102"
      ]
     },
     "execution_count": 83,
     "metadata": {},
     "output_type": "execute_result"
    }
   ],
   "source": [
    "167567 / 6575"
   ]
  },
  {
   "cell_type": "code",
   "execution_count": 84,
   "metadata": {},
   "outputs": [
    {
     "data": {
      "text/plain": [
       "2.9560040220861925"
      ]
     },
     "execution_count": 84,
     "metadata": {},
     "output_type": "execute_result"
    }
   ],
   "source": [
    "167567 / 56687"
   ]
  },
  {
   "cell_type": "code",
   "execution_count": 87,
   "metadata": {},
   "outputs": [],
   "source": [
    "likes = train[train['event'] == 'like']\n",
    "dislikes = train[train['event'] == 'dislike']\n",
    "skips = train[train['event'] == 'skip']\n",
    "views = train[train['event'] == 'view']"
   ]
  },
  {
   "cell_type": "code",
   "execution_count": 98,
   "metadata": {},
   "outputs": [],
   "source": [
    "train2 = pd.concat([views] * 2 + [skips] * 3 + [likes] * 9 + [dislikes] * 71)"
   ]
  },
  {
   "cell_type": "code",
   "execution_count": 99,
   "metadata": {},
   "outputs": [
    {
     "data": {
      "text/plain": [
       "like       510183\n",
       "skip       502701\n",
       "view       484624\n",
       "dislike    466825\n",
       "Name: event, dtype: int64"
      ]
     },
     "execution_count": 99,
     "metadata": {},
     "output_type": "execute_result"
    }
   ],
   "source": [
    "train2['event'].value_counts()"
   ]
  },
  {
   "cell_type": "code",
   "execution_count": null,
   "metadata": {},
   "outputs": [],
   "source": [
    "if dislike > 0.5:\n",
    "    -1\n",
    "else:\n",
    "    1"
   ]
  },
  {
   "cell_type": "code",
   "execution_count": 106,
   "metadata": {},
   "outputs": [],
   "source": [
    "y_test = model.predict(test)"
   ]
  },
  {
   "cell_type": "code",
   "execution_count": 107,
   "metadata": {},
   "outputs": [
    {
     "data": {
      "text/html": [
       "<div>\n",
       "<style scoped>\n",
       "    .dataframe tbody tr th:only-of-type {\n",
       "        vertical-align: middle;\n",
       "    }\n",
       "\n",
       "    .dataframe tbody tr th {\n",
       "        vertical-align: top;\n",
       "    }\n",
       "\n",
       "    .dataframe thead th {\n",
       "        text-align: right;\n",
       "    }\n",
       "</style>\n",
       "<table border=\"1\" class=\"dataframe\">\n",
       "  <thead>\n",
       "    <tr style=\"text-align: right;\">\n",
       "      <th></th>\n",
       "      <th>answer_id</th>\n",
       "      <th>score</th>\n",
       "    </tr>\n",
       "  </thead>\n",
       "  <tbody>\n",
       "    <tr>\n",
       "      <th>0</th>\n",
       "      <td>0</td>\n",
       "      <td>0.85</td>\n",
       "    </tr>\n",
       "    <tr>\n",
       "      <th>1</th>\n",
       "      <td>1</td>\n",
       "      <td>0.53</td>\n",
       "    </tr>\n",
       "    <tr>\n",
       "      <th>2</th>\n",
       "      <td>2</td>\n",
       "      <td>-0.89</td>\n",
       "    </tr>\n",
       "    <tr>\n",
       "      <th>3</th>\n",
       "      <td>3</td>\n",
       "      <td>0.54</td>\n",
       "    </tr>\n",
       "    <tr>\n",
       "      <th>4</th>\n",
       "      <td>4</td>\n",
       "      <td>0.34</td>\n",
       "    </tr>\n",
       "  </tbody>\n",
       "</table>\n",
       "</div>"
      ],
      "text/plain": [
       "   answer_id  score\n",
       "0          0   0.85\n",
       "1          1   0.53\n",
       "2          2  -0.89\n",
       "3          3   0.54\n",
       "4          4   0.34"
      ]
     },
     "execution_count": 107,
     "metadata": {},
     "output_type": "execute_result"
    }
   ],
   "source": [
    "sample.head()"
   ]
  },
  {
   "cell_type": "code",
   "execution_count": 108,
   "metadata": {},
   "outputs": [
    {
     "data": {
      "text/html": [
       "<div>\n",
       "<style scoped>\n",
       "    .dataframe tbody tr th:only-of-type {\n",
       "        vertical-align: middle;\n",
       "    }\n",
       "\n",
       "    .dataframe tbody tr th {\n",
       "        vertical-align: top;\n",
       "    }\n",
       "\n",
       "    .dataframe thead th {\n",
       "        text-align: right;\n",
       "    }\n",
       "</style>\n",
       "<table border=\"1\" class=\"dataframe\">\n",
       "  <thead>\n",
       "    <tr style=\"text-align: right;\">\n",
       "      <th></th>\n",
       "      <th>customer_id</th>\n",
       "      <th>story_id</th>\n",
       "      <th>event_dttm</th>\n",
       "      <th>answer_id</th>\n",
       "    </tr>\n",
       "  </thead>\n",
       "  <tbody>\n",
       "    <tr>\n",
       "      <th>0</th>\n",
       "      <td>466906</td>\n",
       "      <td>1152</td>\n",
       "      <td>2018-08-01 00:00:46</td>\n",
       "      <td>0</td>\n",
       "    </tr>\n",
       "    <tr>\n",
       "      <th>1</th>\n",
       "      <td>466906</td>\n",
       "      <td>1355</td>\n",
       "      <td>2018-08-01 00:00:46</td>\n",
       "      <td>1</td>\n",
       "    </tr>\n",
       "    <tr>\n",
       "      <th>2</th>\n",
       "      <td>146395</td>\n",
       "      <td>537</td>\n",
       "      <td>2018-08-01 00:02:08</td>\n",
       "      <td>2</td>\n",
       "    </tr>\n",
       "    <tr>\n",
       "      <th>3</th>\n",
       "      <td>897303</td>\n",
       "      <td>915</td>\n",
       "      <td>2018-08-01 00:02:30</td>\n",
       "      <td>3</td>\n",
       "    </tr>\n",
       "    <tr>\n",
       "      <th>4</th>\n",
       "      <td>50094</td>\n",
       "      <td>1415</td>\n",
       "      <td>2018-08-01 00:03:13</td>\n",
       "      <td>4</td>\n",
       "    </tr>\n",
       "  </tbody>\n",
       "</table>\n",
       "</div>"
      ],
      "text/plain": [
       "   customer_id  story_id           event_dttm  answer_id\n",
       "0       466906      1152  2018-08-01 00:00:46          0\n",
       "1       466906      1355  2018-08-01 00:00:46          1\n",
       "2       146395       537  2018-08-01 00:02:08          2\n",
       "3       897303       915  2018-08-01 00:02:30          3\n",
       "4        50094      1415  2018-08-01 00:03:13          4"
      ]
     },
     "execution_count": 108,
     "metadata": {},
     "output_type": "execute_result"
    }
   ],
   "source": [
    "react_test.head()"
   ]
  },
  {
   "cell_type": "code",
   "execution_count": 118,
   "metadata": {},
   "outputs": [
    {
     "name": "stdout",
     "output_type": "stream",
     "text": [
      "[[0.00183112 0.00118643 0.52823    0.46875256]\n",
      " [0.00112576 0.0007622  0.52870905 0.469403  ]\n",
      " [0.00112576 0.0007622  0.52870905 0.469403  ]\n",
      " ...\n",
      " [0.00124206 0.00083154 0.53368634 0.4642401 ]\n",
      " [0.00124206 0.00083154 0.53368634 0.4642401 ]\n",
      " [0.00124206 0.00083154 0.53368634 0.4642401 ]]\n"
     ]
    }
   ],
   "source": [
    "print(y_test[y_test[:, 0] > 0.001])"
   ]
  },
  {
   "cell_type": "code",
   "execution_count": 119,
   "metadata": {},
   "outputs": [
    {
     "data": {
      "text/plain": [
       "array([[9.1747388e-05, 7.9007368e-05, 5.2982575e-01, 4.7000343e-01],\n",
       "       [9.1747388e-05, 7.9007368e-05, 5.2982575e-01, 4.7000343e-01],\n",
       "       [2.3250612e-04, 1.8183373e-04, 5.8355933e-01, 4.1602635e-01],\n",
       "       [8.2050501e-05, 6.0725804e-05, 5.9720862e-01, 4.0264863e-01]],\n",
       "      dtype=float32)"
      ]
     },
     "execution_count": 119,
     "metadata": {},
     "output_type": "execute_result"
    }
   ],
   "source": [
    "y_test[:4]"
   ]
  },
  {
   "cell_type": "code",
   "execution_count": 120,
   "metadata": {},
   "outputs": [
    {
     "data": {
      "text/html": [
       "<div>\n",
       "<style scoped>\n",
       "    .dataframe tbody tr th:only-of-type {\n",
       "        vertical-align: middle;\n",
       "    }\n",
       "\n",
       "    .dataframe tbody tr th {\n",
       "        vertical-align: top;\n",
       "    }\n",
       "\n",
       "    .dataframe thead th {\n",
       "        text-align: right;\n",
       "    }\n",
       "</style>\n",
       "<table border=\"1\" class=\"dataframe\">\n",
       "  <thead>\n",
       "    <tr style=\"text-align: right;\">\n",
       "      <th></th>\n",
       "      <th>answer_id</th>\n",
       "      <th>score</th>\n",
       "    </tr>\n",
       "  </thead>\n",
       "  <tbody>\n",
       "    <tr>\n",
       "      <th>0</th>\n",
       "      <td>0</td>\n",
       "      <td>0.85</td>\n",
       "    </tr>\n",
       "    <tr>\n",
       "      <th>1</th>\n",
       "      <td>1</td>\n",
       "      <td>0.53</td>\n",
       "    </tr>\n",
       "    <tr>\n",
       "      <th>2</th>\n",
       "      <td>2</td>\n",
       "      <td>-0.89</td>\n",
       "    </tr>\n",
       "    <tr>\n",
       "      <th>3</th>\n",
       "      <td>3</td>\n",
       "      <td>0.54</td>\n",
       "    </tr>\n",
       "    <tr>\n",
       "      <th>4</th>\n",
       "      <td>4</td>\n",
       "      <td>0.34</td>\n",
       "    </tr>\n",
       "  </tbody>\n",
       "</table>\n",
       "</div>"
      ],
      "text/plain": [
       "   answer_id  score\n",
       "0          0   0.85\n",
       "1          1   0.53\n",
       "2          2  -0.89\n",
       "3          3   0.54\n",
       "4          4   0.34"
      ]
     },
     "execution_count": 120,
     "metadata": {},
     "output_type": "execute_result"
    }
   ],
   "source": [
    "sample.head()"
   ]
  },
  {
   "cell_type": "code",
   "execution_count": 121,
   "metadata": {},
   "outputs": [],
   "source": [
    "sample['score'] = -1"
   ]
  },
  {
   "cell_type": "code",
   "execution_count": 122,
   "metadata": {},
   "outputs": [],
   "source": [
    "sample.to_csv('name.csv', index = False)"
   ]
  },
  {
   "cell_type": "code",
   "execution_count": 131,
   "metadata": {},
   "outputs": [
    {
     "name": "stdout",
     "output_type": "stream",
     "text": [
      "0 0\n",
      "1 1\n",
      "2 2\n",
      "3 3\n"
     ]
    }
   ],
   "source": [
    "tr = react_train['event'][:]\n",
    "for status, num in zip(react_train['event'].unique(), range(4)):\n",
    "    tr[tr == status] = num\n",
    "    print(status, num)\n",
    "t = to_categorical(tr) \n"
   ]
  },
  {
   "cell_type": "code",
   "execution_count": 136,
   "metadata": {},
   "outputs": [
    {
     "name": "stdout",
     "output_type": "stream",
     "text": [
      "like       510183\n",
      "skip       502701\n",
      "view       484624\n",
      "dislike    466825\n",
      "Name: event, dtype: int64\n",
      "466825.0\n",
      "510183.0\n",
      "502701.0\n",
      "484624.0\n"
     ]
    }
   ],
   "source": [
    "print(train2['event'].value_counts())\n",
    "for i in range(4):\n",
    "    print(sum(y[:,i]))"
   ]
  },
  {
   "cell_type": "markdown",
   "metadata": {},
   "source": [
    "1 - dislike\n",
    "2 - like\n",
    "3 - skip\n",
    "4 - view"
   ]
  },
  {
   "cell_type": "code",
   "execution_count": 151,
   "metadata": {},
   "outputs": [],
   "source": [
    "def res(ar):\n",
    "    ans = 2 * (ar[:, 1] + ar[:, 3] > 0.5) - 1\n",
    "    return ans\n"
   ]
  },
  {
   "cell_type": "code",
   "execution_count": 140,
   "metadata": {},
   "outputs": [
    {
     "data": {
      "text/html": [
       "<div>\n",
       "<style scoped>\n",
       "    .dataframe tbody tr th:only-of-type {\n",
       "        vertical-align: middle;\n",
       "    }\n",
       "\n",
       "    .dataframe tbody tr th {\n",
       "        vertical-align: top;\n",
       "    }\n",
       "\n",
       "    .dataframe thead th {\n",
       "        text-align: right;\n",
       "    }\n",
       "</style>\n",
       "<table border=\"1\" class=\"dataframe\">\n",
       "  <thead>\n",
       "    <tr style=\"text-align: right;\">\n",
       "      <th></th>\n",
       "      <th>answer_id</th>\n",
       "      <th>score</th>\n",
       "    </tr>\n",
       "  </thead>\n",
       "  <tbody>\n",
       "    <tr>\n",
       "      <th>0</th>\n",
       "      <td>0</td>\n",
       "      <td>-1</td>\n",
       "    </tr>\n",
       "    <tr>\n",
       "      <th>1</th>\n",
       "      <td>1</td>\n",
       "      <td>-1</td>\n",
       "    </tr>\n",
       "    <tr>\n",
       "      <th>2</th>\n",
       "      <td>2</td>\n",
       "      <td>-1</td>\n",
       "    </tr>\n",
       "    <tr>\n",
       "      <th>3</th>\n",
       "      <td>3</td>\n",
       "      <td>-1</td>\n",
       "    </tr>\n",
       "    <tr>\n",
       "      <th>4</th>\n",
       "      <td>4</td>\n",
       "      <td>-1</td>\n",
       "    </tr>\n",
       "  </tbody>\n",
       "</table>\n",
       "</div>"
      ],
      "text/plain": [
       "   answer_id  score\n",
       "0          0     -1\n",
       "1          1     -1\n",
       "2          2     -1\n",
       "3          3     -1\n",
       "4          4     -1"
      ]
     },
     "execution_count": 140,
     "metadata": {},
     "output_type": "execute_result"
    }
   ],
   "source": [
    "sample.head()"
   ]
  },
  {
   "cell_type": "code",
   "execution_count": 149,
   "metadata": {},
   "outputs": [
    {
     "data": {
      "text/html": [
       "<div>\n",
       "<style scoped>\n",
       "    .dataframe tbody tr th:only-of-type {\n",
       "        vertical-align: middle;\n",
       "    }\n",
       "\n",
       "    .dataframe tbody tr th {\n",
       "        vertical-align: top;\n",
       "    }\n",
       "\n",
       "    .dataframe thead th {\n",
       "        text-align: right;\n",
       "    }\n",
       "</style>\n",
       "<table border=\"1\" class=\"dataframe\">\n",
       "  <thead>\n",
       "    <tr style=\"text-align: right;\">\n",
       "      <th></th>\n",
       "      <th>story_id</th>\n",
       "      <th>answer_id</th>\n",
       "      <th>gender_cd</th>\n",
       "      <th>age</th>\n",
       "      <th>children_cnt</th>\n",
       "      <th>product_0_UTL</th>\n",
       "      <th>product_0_CLS</th>\n",
       "      <th>product_0_OPN</th>\n",
       "      <th>product_0_nan</th>\n",
       "      <th>product_1_UTL</th>\n",
       "      <th>...</th>\n",
       "      <th>first_session_13.0</th>\n",
       "      <th>first_session_nan</th>\n",
       "      <th>first_session_14.0</th>\n",
       "      <th>marital_status_nan</th>\n",
       "      <th>marital_status_UNM</th>\n",
       "      <th>marital_status_CIV</th>\n",
       "      <th>marital_status_MAR</th>\n",
       "      <th>marital_status_DIV</th>\n",
       "      <th>marital_status_WID</th>\n",
       "      <th>marital_status_DLW</th>\n",
       "    </tr>\n",
       "  </thead>\n",
       "  <tbody>\n",
       "    <tr>\n",
       "      <th>0</th>\n",
       "      <td>1152</td>\n",
       "      <td>0</td>\n",
       "      <td>0</td>\n",
       "      <td>25.0</td>\n",
       "      <td>0.0</td>\n",
       "      <td>0</td>\n",
       "      <td>0</td>\n",
       "      <td>0</td>\n",
       "      <td>1</td>\n",
       "      <td>0</td>\n",
       "      <td>...</td>\n",
       "      <td>0</td>\n",
       "      <td>0</td>\n",
       "      <td>0</td>\n",
       "      <td>0</td>\n",
       "      <td>1</td>\n",
       "      <td>0</td>\n",
       "      <td>0</td>\n",
       "      <td>0</td>\n",
       "      <td>0</td>\n",
       "      <td>0</td>\n",
       "    </tr>\n",
       "    <tr>\n",
       "      <th>1</th>\n",
       "      <td>1355</td>\n",
       "      <td>1</td>\n",
       "      <td>0</td>\n",
       "      <td>25.0</td>\n",
       "      <td>0.0</td>\n",
       "      <td>0</td>\n",
       "      <td>0</td>\n",
       "      <td>0</td>\n",
       "      <td>1</td>\n",
       "      <td>0</td>\n",
       "      <td>...</td>\n",
       "      <td>0</td>\n",
       "      <td>0</td>\n",
       "      <td>0</td>\n",
       "      <td>0</td>\n",
       "      <td>1</td>\n",
       "      <td>0</td>\n",
       "      <td>0</td>\n",
       "      <td>0</td>\n",
       "      <td>0</td>\n",
       "      <td>0</td>\n",
       "    </tr>\n",
       "    <tr>\n",
       "      <th>2</th>\n",
       "      <td>537</td>\n",
       "      <td>2</td>\n",
       "      <td>1</td>\n",
       "      <td>25.0</td>\n",
       "      <td>0.0</td>\n",
       "      <td>0</td>\n",
       "      <td>0</td>\n",
       "      <td>0</td>\n",
       "      <td>1</td>\n",
       "      <td>1</td>\n",
       "      <td>...</td>\n",
       "      <td>0</td>\n",
       "      <td>0</td>\n",
       "      <td>0</td>\n",
       "      <td>0</td>\n",
       "      <td>1</td>\n",
       "      <td>0</td>\n",
       "      <td>0</td>\n",
       "      <td>0</td>\n",
       "      <td>0</td>\n",
       "      <td>0</td>\n",
       "    </tr>\n",
       "    <tr>\n",
       "      <th>3</th>\n",
       "      <td>915</td>\n",
       "      <td>3</td>\n",
       "      <td>0</td>\n",
       "      <td>30.0</td>\n",
       "      <td>0.0</td>\n",
       "      <td>0</td>\n",
       "      <td>0</td>\n",
       "      <td>0</td>\n",
       "      <td>1</td>\n",
       "      <td>1</td>\n",
       "      <td>...</td>\n",
       "      <td>0</td>\n",
       "      <td>0</td>\n",
       "      <td>0</td>\n",
       "      <td>1</td>\n",
       "      <td>0</td>\n",
       "      <td>0</td>\n",
       "      <td>0</td>\n",
       "      <td>0</td>\n",
       "      <td>0</td>\n",
       "      <td>0</td>\n",
       "    </tr>\n",
       "    <tr>\n",
       "      <th>4</th>\n",
       "      <td>1415</td>\n",
       "      <td>4</td>\n",
       "      <td>1</td>\n",
       "      <td>30.0</td>\n",
       "      <td>0.0</td>\n",
       "      <td>1</td>\n",
       "      <td>0</td>\n",
       "      <td>0</td>\n",
       "      <td>0</td>\n",
       "      <td>0</td>\n",
       "      <td>...</td>\n",
       "      <td>0</td>\n",
       "      <td>0</td>\n",
       "      <td>0</td>\n",
       "      <td>1</td>\n",
       "      <td>0</td>\n",
       "      <td>0</td>\n",
       "      <td>0</td>\n",
       "      <td>0</td>\n",
       "      <td>0</td>\n",
       "      <td>0</td>\n",
       "    </tr>\n",
       "  </tbody>\n",
       "</table>\n",
       "<p>5 rows × 71 columns</p>\n",
       "</div>"
      ],
      "text/plain": [
       "   story_id  answer_id  gender_cd   age  children_cnt  product_0_UTL  \\\n",
       "0      1152          0          0  25.0           0.0              0   \n",
       "1      1355          1          0  25.0           0.0              0   \n",
       "2       537          2          1  25.0           0.0              0   \n",
       "3       915          3          0  30.0           0.0              0   \n",
       "4      1415          4          1  30.0           0.0              1   \n",
       "\n",
       "   product_0_CLS  product_0_OPN  product_0_nan  product_1_UTL  ...  \\\n",
       "0              0              0              1              0  ...   \n",
       "1              0              0              1              0  ...   \n",
       "2              0              0              1              1  ...   \n",
       "3              0              0              1              1  ...   \n",
       "4              0              0              0              0  ...   \n",
       "\n",
       "   first_session_13.0  first_session_nan  first_session_14.0  \\\n",
       "0                   0                  0                   0   \n",
       "1                   0                  0                   0   \n",
       "2                   0                  0                   0   \n",
       "3                   0                  0                   0   \n",
       "4                   0                  0                   0   \n",
       "\n",
       "   marital_status_nan  marital_status_UNM  marital_status_CIV  \\\n",
       "0                   0                   1                   0   \n",
       "1                   0                   1                   0   \n",
       "2                   0                   1                   0   \n",
       "3                   1                   0                   0   \n",
       "4                   1                   0                   0   \n",
       "\n",
       "   marital_status_MAR  marital_status_DIV  marital_status_WID  \\\n",
       "0                   0                   0                   0   \n",
       "1                   0                   0                   0   \n",
       "2                   0                   0                   0   \n",
       "3                   0                   0                   0   \n",
       "4                   0                   0                   0   \n",
       "\n",
       "   marital_status_DLW  \n",
       "0                   0  \n",
       "1                   0  \n",
       "2                   0  \n",
       "3                   0  \n",
       "4                   0  \n",
       "\n",
       "[5 rows x 71 columns]"
      ]
     },
     "execution_count": 149,
     "metadata": {},
     "output_type": "execute_result"
    }
   ],
   "source": [
    "test.head()"
   ]
  },
  {
   "cell_type": "code",
   "execution_count": 152,
   "metadata": {},
   "outputs": [],
   "source": [
    "sample['score'] = res(model.predict(test.drop(['answer_id', 'story_id'], axis = 1)))"
   ]
  },
  {
   "cell_type": "code",
   "execution_count": 153,
   "metadata": {},
   "outputs": [
    {
     "data": {
      "text/html": [
       "<div>\n",
       "<style scoped>\n",
       "    .dataframe tbody tr th:only-of-type {\n",
       "        vertical-align: middle;\n",
       "    }\n",
       "\n",
       "    .dataframe tbody tr th {\n",
       "        vertical-align: top;\n",
       "    }\n",
       "\n",
       "    .dataframe thead th {\n",
       "        text-align: right;\n",
       "    }\n",
       "</style>\n",
       "<table border=\"1\" class=\"dataframe\">\n",
       "  <thead>\n",
       "    <tr style=\"text-align: right;\">\n",
       "      <th></th>\n",
       "      <th>answer_id</th>\n",
       "      <th>score</th>\n",
       "    </tr>\n",
       "  </thead>\n",
       "  <tbody>\n",
       "    <tr>\n",
       "      <th>0</th>\n",
       "      <td>0</td>\n",
       "      <td>-1</td>\n",
       "    </tr>\n",
       "    <tr>\n",
       "      <th>1</th>\n",
       "      <td>1</td>\n",
       "      <td>-1</td>\n",
       "    </tr>\n",
       "    <tr>\n",
       "      <th>2</th>\n",
       "      <td>2</td>\n",
       "      <td>-1</td>\n",
       "    </tr>\n",
       "    <tr>\n",
       "      <th>3</th>\n",
       "      <td>3</td>\n",
       "      <td>-1</td>\n",
       "    </tr>\n",
       "    <tr>\n",
       "      <th>4</th>\n",
       "      <td>4</td>\n",
       "      <td>1</td>\n",
       "    </tr>\n",
       "    <tr>\n",
       "      <th>5</th>\n",
       "      <td>5</td>\n",
       "      <td>1</td>\n",
       "    </tr>\n",
       "    <tr>\n",
       "      <th>6</th>\n",
       "      <td>6</td>\n",
       "      <td>1</td>\n",
       "    </tr>\n",
       "    <tr>\n",
       "      <th>7</th>\n",
       "      <td>7</td>\n",
       "      <td>1</td>\n",
       "    </tr>\n",
       "    <tr>\n",
       "      <th>8</th>\n",
       "      <td>8</td>\n",
       "      <td>1</td>\n",
       "    </tr>\n",
       "    <tr>\n",
       "      <th>9</th>\n",
       "      <td>9</td>\n",
       "      <td>-1</td>\n",
       "    </tr>\n",
       "  </tbody>\n",
       "</table>\n",
       "</div>"
      ],
      "text/plain": [
       "   answer_id  score\n",
       "0          0     -1\n",
       "1          1     -1\n",
       "2          2     -1\n",
       "3          3     -1\n",
       "4          4      1\n",
       "5          5      1\n",
       "6          6      1\n",
       "7          7      1\n",
       "8          8      1\n",
       "9          9     -1"
      ]
     },
     "execution_count": 153,
     "metadata": {},
     "output_type": "execute_result"
    }
   ],
   "source": [
    "sample.head(10)"
   ]
  },
  {
   "cell_type": "code",
   "execution_count": 161,
   "metadata": {},
   "outputs": [],
   "source": [
    "sample.to_csv('lasthope.csv', index = False)"
   ]
  },
  {
   "cell_type": "code",
   "execution_count": 155,
   "metadata": {},
   "outputs": [
    {
     "data": {
      "text/html": [
       "<div>\n",
       "<style scoped>\n",
       "    .dataframe tbody tr th:only-of-type {\n",
       "        vertical-align: middle;\n",
       "    }\n",
       "\n",
       "    .dataframe tbody tr th {\n",
       "        vertical-align: top;\n",
       "    }\n",
       "\n",
       "    .dataframe thead th {\n",
       "        text-align: right;\n",
       "    }\n",
       "</style>\n",
       "<table border=\"1\" class=\"dataframe\">\n",
       "  <thead>\n",
       "    <tr style=\"text-align: right;\">\n",
       "      <th></th>\n",
       "      <th>story_id</th>\n",
       "      <th>event</th>\n",
       "      <th>gender_cd</th>\n",
       "      <th>age</th>\n",
       "      <th>children_cnt</th>\n",
       "      <th>product_0_UTL</th>\n",
       "      <th>product_0_CLS</th>\n",
       "      <th>product_0_OPN</th>\n",
       "      <th>product_0_nan</th>\n",
       "      <th>product_1_UTL</th>\n",
       "      <th>...</th>\n",
       "      <th>first_session_13.0</th>\n",
       "      <th>first_session_nan</th>\n",
       "      <th>first_session_14.0</th>\n",
       "      <th>marital_status_nan</th>\n",
       "      <th>marital_status_UNM</th>\n",
       "      <th>marital_status_CIV</th>\n",
       "      <th>marital_status_MAR</th>\n",
       "      <th>marital_status_DIV</th>\n",
       "      <th>marital_status_WID</th>\n",
       "      <th>marital_status_DLW</th>\n",
       "    </tr>\n",
       "  </thead>\n",
       "  <tbody>\n",
       "    <tr>\n",
       "      <th>0</th>\n",
       "      <td>138</td>\n",
       "      <td>0</td>\n",
       "      <td>1</td>\n",
       "      <td>40.0</td>\n",
       "      <td>1.0</td>\n",
       "      <td>0</td>\n",
       "      <td>0</td>\n",
       "      <td>0</td>\n",
       "      <td>1</td>\n",
       "      <td>0</td>\n",
       "      <td>...</td>\n",
       "      <td>0</td>\n",
       "      <td>0</td>\n",
       "      <td>0</td>\n",
       "      <td>0</td>\n",
       "      <td>0</td>\n",
       "      <td>0</td>\n",
       "      <td>1</td>\n",
       "      <td>0</td>\n",
       "      <td>0</td>\n",
       "      <td>0</td>\n",
       "    </tr>\n",
       "  </tbody>\n",
       "</table>\n",
       "<p>1 rows × 71 columns</p>\n",
       "</div>"
      ],
      "text/plain": [
       "   story_id event  gender_cd   age  children_cnt  product_0_UTL  \\\n",
       "0       138     0          1  40.0           1.0              0   \n",
       "\n",
       "   product_0_CLS  product_0_OPN  product_0_nan  product_1_UTL  ...  \\\n",
       "0              0              0              1              0  ...   \n",
       "\n",
       "   first_session_13.0  first_session_nan  first_session_14.0  \\\n",
       "0                   0                  0                   0   \n",
       "\n",
       "   marital_status_nan  marital_status_UNM  marital_status_CIV  \\\n",
       "0                   0                   0                   0   \n",
       "\n",
       "   marital_status_MAR  marital_status_DIV  marital_status_WID  \\\n",
       "0                   1                   0                   0   \n",
       "\n",
       "   marital_status_DLW  \n",
       "0                   0  \n",
       "\n",
       "[1 rows x 71 columns]"
      ]
     },
     "execution_count": 155,
     "metadata": {},
     "output_type": "execute_result"
    }
   ],
   "source": [
    "train.head(1)"
   ]
  },
  {
   "cell_type": "code",
   "execution_count": 156,
   "metadata": {},
   "outputs": [
    {
     "data": {
      "text/plain": [
       "array([-1, -1, -1, ..., -1, -1, -1])"
      ]
     },
     "execution_count": 156,
     "metadata": {},
     "output_type": "execute_result"
    }
   ],
   "source": [
    "check = res(model.predict(train.drop(['event', 'story_id'], axis = 1)))"
   ]
  },
  {
   "cell_type": "code",
   "execution_count": 160,
   "metadata": {},
   "outputs": [
    {
     "data": {
      "text/plain": [
       "array([-1, -1, -1, -1, -1, -1, -1, -1, -1, -1, -1, -1, -1, -1, -1, -1, -1,\n",
       "       -1, -1, -1, -1, -1, -1, -1, -1, -1, -1, -1, -1, -1])"
      ]
     },
     "execution_count": 160,
     "metadata": {},
     "output_type": "execute_result"
    }
   ],
   "source": [
    "check[:30]"
   ]
  },
  {
   "cell_type": "code",
   "execution_count": 158,
   "metadata": {},
   "outputs": [
    {
     "data": {
      "text/plain": [
       "0    0\n",
       "1    1\n",
       "2    1\n",
       "3    1\n",
       "4    0\n",
       "5    0\n",
       "6    0\n",
       "7    0\n",
       "8    1\n",
       "9    0\n",
       "Name: event, dtype: object"
      ]
     },
     "execution_count": 158,
     "metadata": {},
     "output_type": "execute_result"
    }
   ],
   "source": [
    "train['event'][:10]"
   ]
  }
 ],
 "metadata": {
  "kernelspec": {
   "display_name": "Python 3",
   "language": "python",
   "name": "python3"
  },
  "language_info": {
   "codemirror_mode": {
    "name": "ipython",
    "version": 3
   },
   "file_extension": ".py",
   "mimetype": "text/x-python",
   "name": "python",
   "nbconvert_exporter": "python",
   "pygments_lexer": "ipython3",
   "version": "3.7.3"
  }
 },
 "nbformat": 4,
 "nbformat_minor": 2
}
